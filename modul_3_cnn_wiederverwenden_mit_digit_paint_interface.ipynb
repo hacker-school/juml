{
  "nbformat": 4,
  "nbformat_minor": 0,
  "metadata": {
    "colab": {
      "name": "modul_3_cnn_wiederverwenden_mit_digit_paint_interface.ipynb",
      "provenance": [],
      "collapsed_sections": [],
      "include_colab_link": true
    },
    "kernelspec": {
      "name": "python3",
      "display_name": "Python 3"
    }
  },
  "cells": [
    {
      "cell_type": "markdown",
      "metadata": {
        "id": "view-in-github",
        "colab_type": "text"
      },
      "source": [
        "<a href=\"https://colab.research.google.com/github/hacker-school/juml/blob/main/modul_3_cnn_wiederverwenden_mit_digit_paint_interface.ipynb\" target=\"_parent\"><img src=\"https://colab.research.google.com/assets/colab-badge.svg\" alt=\"Open In Colab\"/></a>"
      ]
    },
    {
      "cell_type": "markdown",
      "metadata": {
        "id": "-wFUjZTmcG5a"
      },
      "source": [
        "# Laden der Bibliotheken und des gespeicherten NN\n",
        "\n",
        "Im ersten Schritt bereiten wir alles vor und laden unser bereits trainiertes Modell"
      ]
    },
    {
      "cell_type": "code",
      "metadata": {
        "id": "hnkaTO9pGk1k",
        "outputId": "bf8efc6a-6013-4ca0-ffa7-0bbf3ccabe47",
        "colab": {
          "base_uri": "https://localhost:8080/",
          "height": 35
        }
      },
      "source": [
        "from google.colab import drive\n",
        "drive.mount('/content/drive')"
      ],
      "execution_count": null,
      "outputs": [
        {
          "output_type": "stream",
          "text": [
            "Mounted at /content/drive\n"
          ],
          "name": "stdout"
        }
      ]
    },
    {
      "cell_type": "code",
      "metadata": {
        "id": "0xLkmPMibmpd",
        "outputId": "fdab458b-6110-4249-a1e9-693ccdb9bf7c",
        "colab": {
          "base_uri": "https://localhost:8080/",
          "height": 35
        }
      },
      "source": [
        "# TensorFlow and tf.keras\n",
        "import tensorflow as tf\n",
        "from tensorflow import keras\n",
        "import numpy as np\n",
        "import matplotlib.pyplot as plt\n",
        "print(tf.__version__)\n",
        "\n",
        "model = tf.keras.models.load_model('/content/drive/My Drive/modul_2_cnn/model')\n"
      ],
      "execution_count": null,
      "outputs": [
        {
          "output_type": "stream",
          "text": [
            "2.3.0\n"
          ],
          "name": "stdout"
        }
      ]
    },
    {
      "cell_type": "markdown",
      "metadata": {
        "id": "jE7Uqzd8fkzm"
      },
      "source": [
        "# Testen\n",
        "Wir haben in Modul 2 die Neun schon richtig klassifiziert. Lasst uns überprüfen ob das so auch noch funktioniert."
      ]
    },
    {
      "cell_type": "code",
      "metadata": {
        "id": "EJv19cyoeu9r",
        "outputId": "da3d81af-1c66-4828-e132-955a963a07e9",
        "colab": {
          "base_uri": "https://localhost:8080/",
          "height": 333
        }
      },
      "source": [
        "# Wir testen erstmals auf unseren alten Daten um zu testen, ob das Laden funktioniert hat\n",
        "mnist = keras.datasets.mnist\n",
        "(_, _), (test_images, test_labels) = mnist.load_data()\n",
        "test_images = np.expand_dims(test_images / 255.0, -1)\n",
        "\n",
        "# Lade eine 0 aus den Trainingsdaten\n",
        "indicies_von_allen_0en = (np.where(test_labels == 0))[0]\n",
        "bild_mit_ziffer_0 = test_images[indicies_von_allen_0en[0]]\n",
        "\n",
        "plt.figure()\n",
        "plt.imshow(bild_mit_ziffer_0[:,:,0], cmap=plt.cm.binary)\n",
        "plt.title(\"Das ist eine 0\")\n",
        "plt.show()\n",
        "from scipy.special import softmax\n",
        "logits_des_nn_fuer_null = model.predict(np.expand_dims(bild_mit_ziffer_0, 0))\n",
        "wahrscheinlichkeiten_des_nn_fuer_null = softmax(logits_des_nn_fuer_null)[0]\n",
        "erkannte_klasse_des_nn_fuer_null = np.argmax(wahrscheinlichkeiten_des_nn_fuer_null)\n",
        "print('Das NN erkennt die Null als ', erkannte_klasse_des_nn_fuer_null, ' mit einer Wahrscheinlikeit von ', wahrscheinlichkeiten_des_nn_fuer_null[erkannte_klasse_des_nn_fuer_null])"
      ],
      "execution_count": null,
      "outputs": [
        {
          "output_type": "stream",
          "text": [
            "Downloading data from https://storage.googleapis.com/tensorflow/tf-keras-datasets/mnist.npz\n",
            "11493376/11490434 [==============================] - 0s 0us/step\n"
          ],
          "name": "stdout"
        },
        {
          "output_type": "display_data",
          "data": {
            "image/png": "[encoded data removed]",
            "text/plain": [
              "<Figure size 432x288 with 1 Axes>"
            ]
          },
          "metadata": {
            "tags": [],
            "needs_background": "light"
          }
        },
        {
          "output_type": "stream",
          "text": [
            "Das NN erkennt die Null als  0  mit einer Wahrscheinlikeit von  0.9999676\n"
          ],
          "name": "stdout"
        }
      ]
    },
    {
      "cell_type": "markdown",
      "metadata": {
        "id": "95Nf2F41f25S"
      },
      "source": [
        "# Eigene Ziffer\n",
        "Kann das Netz auch unsere eigene Ziffer erkennen? Dafür müssen wir die Ziffer zuerst laden, visualisieren und sehen ob das NN sie erkennt :-)"
      ]
    },
    {
      "cell_type": "code",
      "metadata": {
        "id": "gRO4xoDEgDPI"
      },
      "source": [
        "import IPython\n",
        "from google.colab import output\n",
        "\n",
        "def inferDigit(arr):\n",
        "  global mein_bild_grauwert\n",
        "  mein_bild = np.array(arr) # Achtung JS liefert diw RGBA-Werte als einfaches Array\n",
        "  mein_bild_grauwert = mein_bild[0::4] # Jeden 4ten Wert von 0 ab. Also alle R-Werte\n",
        "  mein_bild_grauwert = np.resize(mein_bild_grauwert, (28,28))\n",
        "  mein_bild_grauwert = abs(1 - mein_bild_grauwert/255)\n",
        "  mein_bild_grauwert = np.expand_dims(mein_bild_grauwert, axis=-1)\n",
        "\n",
        "  plt.figure()\n",
        "  plt.imshow(mein_bild_grauwert[:,:,0], cmap=plt.cm.binary)\n",
        "  plt.title(\"Mein Bild\")\n",
        "  plt.show()\n",
        "\n",
        "  logits_des_nn = model.predict(np.expand_dims(mein_bild_grauwert, axis=0))\n",
        "  wahrscheinlichkeiten_des_nn = softmax(logits_des_nn)[0]\n",
        "  erkannte_klasse_des_nn = np.argmax(wahrscheinlichkeiten_des_nn)\n",
        "  print('Das NN erkennt mein Bild als ', erkannte_klasse_des_nn, ' mit einer Wahrscheinlikeit von ', wahrscheinlichkeiten_des_nn[erkannte_klasse_des_nn])\n",
        "\n",
        "  return \"OK\" # Hier kann auch die Ausgabe an JS delegiert werden\n",
        "\n",
        "output.register_callback('inferDigit', inferDigit)"
      ],
      "execution_count": null,
      "outputs": []
    },
    {
      "cell_type": "code",
      "metadata": {
        "id": "0I1JspRVAGpi",
        "outputId": "c8797b35-5e43-4f56-a3cb-9bcb56f77f50",
        "colab": {
          "base_uri": "https://localhost:8080/",
          "height": 475
        }
      },
      "source": [
        "IPython.display.HTML('''\n",
        "<h1>Enter a Digit to read by you NN</h1>\n",
        "<canvas id=\"digit\" width=\"28\" height=\"28\"></canvas>\n",
        "<button id = \"test-digit\">Test Digit</button>\n",
        "<button id = \"clear\">clear</button>\n",
        "<script>\n",
        "let isDrawing = false\n",
        "let x = 0\n",
        "let y = 0\n",
        "let sc = 4\n",
        "\n",
        "const digit = document.getElementById('digit')\n",
        "const test_digit = document.getElementById('test-digit')\n",
        "\n",
        "const ctx = digit.getContext('2d')\n",
        "\n",
        "clear.onclick = e =>{\n",
        "  ctx.fillStyle = 'white'\n",
        "  ctx.fillRect(0, 0, digit.width, digit.height)\n",
        "}\n",
        "clear.click()\n",
        "\n",
        "test_digit.onclick = e => {\n",
        "  let digitData = ctx.getImageData(0, 0, 28, 28).data\n",
        "  digitData = Array.from(digitData)\n",
        "  ;(async function() {\n",
        "  let result = await google.colab.kernel.invokeFunction(\n",
        "    'inferDigit',\n",
        "    [digitData],\n",
        "    {})\n",
        "    console.log(result)\n",
        "  })()\n",
        "\n",
        "  return false\n",
        "}\n",
        "\n",
        "digit.style.width = 28 * sc + 'px'\n",
        "digit.style.height = 28 * sc + 'px'\n",
        "digit.style.border = '1px solid black'\n",
        "\n",
        "const drawHandler = e => {\n",
        "  if (isDrawing === true) {\n",
        "    if (e.type == 'mousemove' || e.type == 'mouseup') {\n",
        "      ctx.beginPath()\n",
        "      ctx.strokeStyle = 'black'\n",
        "      ctx.lineWidth = 2\n",
        "      ctx.moveTo(x / sc, y / sc)\n",
        "      ctx.lineTo(e.offsetX / sc, e.offsetY / sc)\n",
        "      ctx.stroke()\n",
        "      ctx.closePath()\n",
        "    }\n",
        "  } else if (e.type == 'mousedown') {\n",
        "    isDrawing = true\n",
        "  }\n",
        "  x = e.offsetX\n",
        "  y = e.offsetY\n",
        "  if (e.type == 'mouseup') {\n",
        "    x = 0\n",
        "    y = 0\n",
        "    isDrawing = false\n",
        "  }\n",
        "  e.preventDefault()\n",
        "}\n",
        "\n",
        "digit.addEventListener('mousedown', drawHandler)\n",
        "digit.addEventListener('mousemove', drawHandler)\n",
        "document.addEventListener('mouseup', drawHandler)\n",
        "</script>\n",
        "''')"
      ],
      "execution_count": null,
      "outputs": [
        {
          "output_type": "execute_result",
          "data": {
            "text/html": [
              "\n",
              "<h1>Enter a Digit to read by you NN</h1>\n",
              "<canvas id=\"digit\" width=\"28\" height=\"28\"></canvas>\n",
              "<button id = \"test-digit\">Test Digit</button>\n",
              "<button id = \"clear\">clear</button>\n",
              "<script>\n",
              "let isDrawing = false\n",
              "let x = 0\n",
              "let y = 0\n",
              "let sc = 4\n",
              "\n",
              "const digit = document.getElementById('digit')\n",
              "const test_digit = document.getElementById('test-digit')\n",
              "\n",
              "const ctx = digit.getContext('2d')\n",
              "\n",
              "clear.onclick = e =>{\n",
              "  ctx.fillStyle = 'white'\n",
              "  ctx.fillRect(0, 0, digit.width, digit.height)\n",
              "}\n",
              "clear.click()\n",
              "\n",
              "test_digit.onclick = e => {\n",
              "  let digitData = ctx.getImageData(0, 0, 28, 28).data\n",
              "  digitData = Array.from(digitData)\n",
              "  ;(async function() {\n",
              "  let result = await google.colab.kernel.invokeFunction(\n",
              "    'inferDigit',\n",
              "    [digitData],\n",
              "    {})\n",
              "    console.log(result)\n",
              "  })()\n",
              "\n",
              "  return false\n",
              "}\n",
              "\n",
              "digit.style.width = 28 * sc + 'px'\n",
              "digit.style.height = 28 * sc + 'px'\n",
              "digit.style.border = '1px solid black'\n",
              "\n",
              "const drawHandler = e => {\n",
              "  if (isDrawing === true) {\n",
              "    if (e.type == 'mousemove' || e.type == 'mouseup') {\n",
              "      ctx.beginPath()\n",
              "      ctx.strokeStyle = 'black'\n",
              "      ctx.lineWidth = 2\n",
              "      ctx.moveTo(x / sc, y / sc)\n",
              "      ctx.lineTo(e.offsetX / sc, e.offsetY / sc)\n",
              "      ctx.stroke()\n",
              "      ctx.closePath()\n",
              "    }\n",
              "  } else if (e.type == 'mousedown') {\n",
              "    isDrawing = true\n",
              "  }\n",
              "  x = e.offsetX\n",
              "  y = e.offsetY\n",
              "  if (e.type == 'mouseup') {\n",
              "    x = 0\n",
              "    y = 0\n",
              "    isDrawing = false\n",
              "  }\n",
              "  e.preventDefault()\n",
              "}\n",
              "\n",
              "digit.addEventListener('mousedown', drawHandler)\n",
              "digit.addEventListener('mousemove', drawHandler)\n",
              "document.addEventListener('mouseup', drawHandler)\n",
              "</script>\n"
            ],
            "text/plain": [
              "<IPython.core.display.HTML object>"
            ]
          },
          "metadata": {
            "tags": []
          },
          "execution_count": 14
        },
        {
          "output_type": "display_data",
          "data": {
            "image/png": "[encoded data removed]",
            "text/plain": [
              "<Figure size 432x288 with 1 Axes>"
            ]
          },
          "metadata": {
            "tags": [],
            "needs_background": "light"
          }
        },
        {
          "output_type": "stream",
          "text": [
            "Das NN erkennt mein Bild als  7  mit einer Wahrscheinlikeit von  0.89899933\n"
          ],
          "name": "stdout"
        }
      ]
    },
    {
      "cell_type": "markdown",
      "metadata": {
        "id": "StpMtRLiQ3xs"
      },
      "source": [
        "# Aufgabe Datenformate\n",
        "\n",
        "\n",
        "*   Wie wichtig ist es, dem Netwerk die gleichen Daten zu zeigen die es bereits während des Trainings sah?\n",
        "*   Was bedeutet RGB und was ist ein eigentlich ein Grauwertbild?\n",
        "\n"
      ]
    },
    {
      "cell_type": "code",
      "metadata": {
        "id": "vNOT2YunR8Lq"
      },
      "source": [
        "mein_bild_grauwert"
      ],
      "execution_count": null,
      "outputs": []
    }
  ]
}