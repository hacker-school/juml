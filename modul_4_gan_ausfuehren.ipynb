{
 "cells": [
  {
   "cell_type": "markdown",
   "metadata": {
    "colab_type": "text",
    "id": "q3XxeV_iSv8S"
   },
   "source": [
    "# GAN ausführen\n",
    "\n",
    "In diesem Beispiel führen wir den Generator unseres GAN aus und probieren verschiedene Input Rauschen aus."
   ]
  },
  {
   "cell_type": "code",
   "execution_count": null,
   "metadata": {
    "colab": {
     "base_uri": "https://localhost:8080/",
     "height": 34
    },
    "colab_type": "code",
    "executionInfo": {
     "elapsed": 31931,
     "status": "ok",
     "timestamp": 1600064434268,
     "user": {
      "displayName": "Julia Nitsch",
      "photoUrl": "https://lh3.googleusercontent.com/a-/AOh14GiEI-GAxszORnjA0WqbcKrAT2dFjghG7ikD4zjctA=s64",
      "userId": "05156771066106099172"
     },
     "user_tz": -120
    },
    "id": "0xLkmPMibmpd",
    "outputId": "37e2f764-99e3-4178-8e1b-d722c3d8440e"
   },
   "outputs": [],
   "source": [
    "# TensorFlow and tf.keras\n",
    "import tensorflow as tf\n",
    "tf.__version__\n",
    "import matplotlib.pyplot as plt\n",
    "import matplotlib.gridspec as gridspec\n",
    "import numpy as np\n",
    "import PIL\n",
    "from tensorflow.keras import layers\n",
    "\n",
    "from google.colab import drive\n",
    "drive.mount('/content/drive')"
   ]
  },
  {
   "cell_type": "code",
   "execution_count": null,
   "metadata": {
    "colab": {},
    "colab_type": "code",
    "executionInfo": {
     "elapsed": 3614,
     "status": "ok",
     "timestamp": 1600064440122,
     "user": {
      "displayName": "Julia Nitsch",
      "photoUrl": "https://lh3.googleusercontent.com/a-/AOh14GiEI-GAxszORnjA0WqbcKrAT2dFjghG7ikD4zjctA=s64",
      "userId": "05156771066106099172"
     },
     "user_tz": -120
    },
    "id": "mDta4ga6TfqP"
   },
   "outputs": [],
   "source": [
    "# Laden des Generators mit Epoche 9\n",
    "generator = tf.saved_model.load('/content/drive/My Drive/modul_4_gan/generator_44')"
   ]
  },
  {
   "cell_type": "code",
   "execution_count": null,
   "metadata": {
    "colab": {
     "base_uri": "https://localhost:8080/",
     "height": 574
    },
    "colab_type": "code",
    "executionInfo": {
     "elapsed": 1154,
     "status": "ok",
     "timestamp": 1600064452373,
     "user": {
      "displayName": "Julia Nitsch",
      "photoUrl": "https://lh3.googleusercontent.com/a-/AOh14GiEI-GAxszORnjA0WqbcKrAT2dFjghG7ikD4zjctA=s64",
      "userId": "05156771066106099172"
     },
     "user_tz": -120
    },
    "id": "_VQJx4dcULpp",
    "outputId": "b8c48389-66c5-48d7-dbd8-097b1fd71435"
   },
   "outputs": [],
   "source": [
    "noise = tf.random.normal([9, 100])\n",
    "generated_image = generator(noise, training=False)\n",
    "fig = plt.figure(figsize=(10,10))\n",
    "gs1 = gridspec.GridSpec(3,3, wspace=0.05, hspace=0.05)\n",
    "for idx in range(9):\n",
    "    a = plt.subplot(gs1[idx])\n",
    "    a.axis('off')\n",
    "    imgplot = plt.imshow(generated_image[idx,:,:,0], cmap=plt.cm.binary)\n"
   ]
  }
 ],
 "metadata": {
  "colab": {
   "collapsed_sections": [],
   "name": "modul_4_gan_ausfuehren.ipynb",
   "provenance": []
  },
  "kernelspec": {
   "display_name": "Python 3",
   "name": "python3"
  }
 },
 "nbformat": 4,
 "nbformat_minor": 0
}
