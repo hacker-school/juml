{
 "cells": [
  {
   "cell_type": "markdown",
   "metadata": {
    "colab_type": "text",
    "id": "-wFUjZTmcG5a"
   },
   "source": [
    "# Laden der Daten\n",
    "\n",
    "Im ersten Schritt bereiten wir alles vor und laden unseren Datensatz mit handgeschriebene Ziffern. Unser Ziel ist es, das Bild in usner Programm zu laden und zu klassifizieren. \n",
    "\n",
    "Klassifizieren bedeutet, zu erkennen um welche Ziffer es sich handelt. Ist es eine *0* oder doch eine *9*?\n",
    "\n",
    "Ein kleiner Hinweis # signalisiert ein Kommentar im Code, damit notieren sich Programmiererinnen Hinweise um Codezeilen leichter zu verstehen ;-)"
   ]
  },
  {
   "cell_type": "code",
   "execution_count": null,
   "metadata": {
    "colab": {
     "base_uri": "https://localhost:8080/",
     "height": 70
    },
    "colab_type": "code",
    "executionInfo": {
     "elapsed": 3720,
     "status": "ok",
     "timestamp": 1600187597702,
     "user": {
      "displayName": "Julia Nitsch",
      "photoUrl": "https://lh3.googleusercontent.com/a-/AOh14GiEI-GAxszORnjA0WqbcKrAT2dFjghG7ikD4zjctA=s64",
      "userId": "05156771066106099172"
     },
     "user_tz": -120
    },
    "id": "0xLkmPMibmpd",
    "outputId": "bc2b63f2-17fd-406a-f224-213dc2b33fd2"
   },
   "outputs": [],
   "source": [
    "# TensorFlow and tf.keras\n",
    "import tensorflow as tf\n",
    "from tensorflow import keras\n",
    "import numpy as np\n",
    "import matplotlib.pyplot as plt\n",
    "import os\n",
    "print(tf.__version__)\n",
    "\n",
    "# Wir laden den Datensatz\n",
    "mnist = keras.datasets.mnist\n",
    "(train_images, train_labels), (test_images, test_labels) = mnist.load_data()\n",
    "\n",
    "# Wir normieren das Bild, sodass es Werte von 0 - 1 beinhaltet. Das ist ein besserer Input für das NN.\n",
    "train_images = np.expand_dims(train_images / 255.0, -1)\n",
    "test_images = np.expand_dims(test_images / 255.0, -1)\n",
    "\n",
    "\n"
   ]
  },
  {
   "cell_type": "markdown",
   "metadata": {
    "colab_type": "text",
    "id": "e0D6xKrIcElq"
   },
   "source": [
    "# Visualisieren - Veranschaulichen - bildlich darstellen\n",
    "Im nächsten Schritt laden wir eine *0* und eine *9* aus unserem Trainingsdatensatz und veranschaulichen die zwei Ziffern."
   ]
  },
  {
   "cell_type": "code",
   "execution_count": null,
   "metadata": {
    "colab": {
     "base_uri": "https://localhost:8080/",
     "height": 544
    },
    "colab_type": "code",
    "executionInfo": {
     "elapsed": 1637,
     "status": "ok",
     "timestamp": 1600187607533,
     "user": {
      "displayName": "Julia Nitsch",
      "photoUrl": "https://lh3.googleusercontent.com/a-/AOh14GiEI-GAxszORnjA0WqbcKrAT2dFjghG7ikD4zjctA=s64",
      "userId": "05156771066106099172"
     },
     "user_tz": -120
    },
    "id": "QNUbehzkdgtE",
    "outputId": "030a2af2-b774-41f2-83e1-2c2a194b3130"
   },
   "outputs": [],
   "source": [
    "# Lade eine 0 aus den Trainingsdaten\n",
    "indicies_von_allen_0en = (np.where(test_labels == 0))[0]\n",
    "bild_mit_ziffer_0 = test_images[indicies_von_allen_0en[0]]\n",
    "\n",
    "# Lade eine 9 aus den Trainingsdaten\n",
    "indicies_von_allen_9en = (np.where(test_labels == 9))[0]\n",
    "bild_mit_ziffer_9 = test_images[indicies_von_allen_9en[0]]\n",
    "\n",
    "# Visualisieren (= anzeigen) der Bilder, damit wir auch sehen ob wir das ganze richtig geladen haben \n",
    "plt.figure()\n",
    "plt.imshow(bild_mit_ziffer_0[:,:,0], cmap=plt.cm.binary)\n",
    "plt.title(\"Das ist eine 0\")\n",
    "plt.show()\n",
    "\n",
    "plt.figure()\n",
    "plt.imshow(bild_mit_ziffer_9[:,:,0], cmap=plt.cm.binary)\n",
    "plt.title(\"Das ist eine 9\")\n",
    "plt.show()"
   ]
  },
  {
   "cell_type": "markdown",
   "metadata": {
    "colab_type": "text",
    "id": "aFmWf_OtgUeE"
   },
   "source": [
    "# Neuronales Netz definieren\n",
    "Als nächstes müssen wir die Architetkur unseres neuronalen Netzes definieren. Wie viele Layer solltes haben, wie viele Neuronen haben diese Layer.\n",
    "\n",
    "Wir entscheiden uns als erstes für foglende Architektur:\n",
    "\n",
    "\n",
    "*   Input Layer: 28x28 (so groß sind unsere Bilder!)\n",
    "*   3 x Convolution Layer mit Pooling Layer \n",
    "*   Fully Connected Network (FCN) Layer (heißt *dense* in TF!) mit 128 Neuronen und einer ReLU Aktivierung\n",
    "*   Output sind 10 Neuronen (wir haben 10 Ziffern die wir klassifizieren wollen)\n",
    "\n"
   ]
  },
  {
   "cell_type": "code",
   "execution_count": null,
   "metadata": {
    "colab": {},
    "colab_type": "code",
    "executionInfo": {
     "elapsed": 901,
     "status": "ok",
     "timestamp": 1600187616561,
     "user": {
      "displayName": "Julia Nitsch",
      "photoUrl": "https://lh3.googleusercontent.com/a-/AOh14GiEI-GAxszORnjA0WqbcKrAT2dFjghG7ikD4zjctA=s64",
      "userId": "05156771066106099172"
     },
     "user_tz": -120
    },
    "id": "LP0ZTVUqcC5x"
   },
   "outputs": [],
   "source": [
    "# Netzwerk Architektur\n",
    "model = keras.Sequential([\n",
    "    keras.layers.Conv2D(8, (3, 3), activation='relu', input_shape=(28,28,1)),\n",
    "    keras.layers.MaxPooling2D((2, 2)),\n",
    "    keras.layers.Conv2D(16, (3, 3), activation='relu'),\n",
    "    keras.layers.MaxPooling2D((2, 2)),\n",
    "    keras.layers.Conv2D(16, (3, 3), activation='relu'),\n",
    "    keras.layers.Flatten(),\n",
    "    keras.layers.Dense(128, activation='relu'),\n",
    "    keras.layers.Dense(10)\n",
    "])\n",
    "# Lassen TF unser Netzwerk bauen\n",
    "model.compile(optimizer='adam',\n",
    "              loss=tf.keras.losses.SparseCategoricalCrossentropy(from_logits=True),\n",
    "              metrics=['accuracy'])"
   ]
  },
  {
   "cell_type": "markdown",
   "metadata": {
    "colab_type": "text",
    "id": "Q9PhELVyhKD7"
   },
   "source": [
    "# Neuronales Netz trainieren\n",
    "Im nächsten Schritt traineiren wir unser Netz mit den Daten, die wir oben geladen haben. Trainieren wird auch *fitten* genannt, da beim Trainieren die Gewichte der Neuronen angepasst werden, also gefitted werden. Das Wort kommt aus dem Englischen! \n",
    "\n",
    "Wir müssen TF natürlcih auch noch sagen, wie lange das Netzwerk traineirt werden soll. Das drückt man aus, wie oft dem Netzwerk die Trainingsdaten gezeigt werden sollen. \n",
    "\n",
    "* 1 x alle Trainingsdaten zeigen = 1 Epoche\n",
    "* 2 x alle Trainingsdaten zeigen = 2 Epochen"
   ]
  },
  {
   "cell_type": "code",
   "execution_count": null,
   "metadata": {
    "colab": {
     "base_uri": "https://localhost:8080/",
     "height": 212
    },
    "colab_type": "code",
    "executionInfo": {
     "elapsed": 127840,
     "status": "ok",
     "timestamp": 1600187747434,
     "user": {
      "displayName": "Julia Nitsch",
      "photoUrl": "https://lh3.googleusercontent.com/a-/AOh14GiEI-GAxszORnjA0WqbcKrAT2dFjghG7ikD4zjctA=s64",
      "userId": "05156771066106099172"
     },
     "user_tz": -120
    },
    "id": "zfgWUUFnhTED",
    "outputId": "8bda76ea-9862-4e04-c59e-ff12173ef418"
   },
   "outputs": [],
   "source": [
    "# Trainiere das Netzwerk für 5 Epochen\n",
    "model.fit(train_images, train_labels, epochs=5)\n",
    "\n",
    "#Speichere mein modell ab\n",
    "# 1) zuerst in meinem obersten drive Folder einen Folder / Verezeichnis mit Namen modul_2_cnn anlegen --> 'rechte Maustaste -> neuer Folder -> modul_2_cnn'\n",
    "# from google.colab import drive\n",
    "# drive.mount('/content/drive')\n",
    "# tf.saved_model.save(model, '/content/drive/My Drive/modul_2_cnn/model')\n"
   ]
  },
  {
   "cell_type": "markdown",
   "metadata": {
    "colab_type": "text",
    "id": "VJHCQFoniDM0"
   },
   "source": [
    "# Überprüfen wie gut das Netzwerk ist\n",
    "Wir haben das Netzwerk trainiert, jetzt wollen wir auch wissen wie gut es funktioniert. Wir sagen auch, wir *evaluieren* das Netzwerk jetzt. Evaluiert wird mit den Testdaten. Wir fragen, wie viele der Testdaten richtig klassifieziert werden, das heißt wie oft das Netzwerk die Zahl richtig erkennt."
   ]
  },
  {
   "cell_type": "code",
   "execution_count": null,
   "metadata": {
    "colab": {
     "base_uri": "https://localhost:8080/",
     "height": 52
    },
    "colab_type": "code",
    "executionInfo": {
     "elapsed": 2676,
     "status": "ok",
     "timestamp": 1600187757024,
     "user": {
      "displayName": "Julia Nitsch",
      "photoUrl": "https://lh3.googleusercontent.com/a-/AOh14GiEI-GAxszORnjA0WqbcKrAT2dFjghG7ikD4zjctA=s64",
      "userId": "05156771066106099172"
     },
     "user_tz": -120
    },
    "id": "fzI4H2ueijYC",
    "outputId": "f3f6b4dd-ca1c-458f-f7db-1d4c351f769a"
   },
   "outputs": [],
   "source": [
    "# Testen des Netzwerkes\n",
    "test_loss, test_acc = model.evaluate(test_images,  test_labels, verbose=0)\n",
    "print('Unser Ergebnis:')\n",
    "print('Von den ', test_images.shape[0], ' wurden ', int(test_acc * test_images.shape[0]), ' richtig erkannt. Das sind {:.2f}% der Daten'.format(test_acc * 100.0))"
   ]
  },
  {
   "cell_type": "markdown",
   "metadata": {
    "colab_type": "text",
    "id": "qyltb5AFXY1q"
   },
   "source": [
    "# Können wir darstellen wie es im NN aussieht?\n",
    "\n",
    "Was passiert eigentlcih in diesen *convolutional layers*? Wie sehen solche Filter aus? Das visualisieren wir im nächsten Code Block."
   ]
  },
  {
   "cell_type": "code",
   "execution_count": null,
   "metadata": {
    "colab": {
     "base_uri": "https://localhost:8080/",
     "height": 444
    },
    "colab_type": "code",
    "executionInfo": {
     "elapsed": 755,
     "status": "ok",
     "timestamp": 1600187759038,
     "user": {
      "displayName": "Julia Nitsch",
      "photoUrl": "https://lh3.googleusercontent.com/a-/AOh14GiEI-GAxszORnjA0WqbcKrAT2dFjghG7ikD4zjctA=s64",
      "userId": "05156771066106099172"
     },
     "user_tz": -120
    },
    "id": "C-cuYCH-cZHs",
    "outputId": "0d9f34b4-b110-40c7-ff4c-6e2f1e963130"
   },
   "outputs": [],
   "source": [
    "conv1_layer_weight = model.layers[0].get_weights()[0][:,:,0,:]\n",
    "\n",
    "import matplotlib.gridspec as gridspec\n",
    "# Erster convolution layer --> 8 Filter\n",
    "fig = plt.figure(figsize=(10,10))\n",
    "gs1 = gridspec.GridSpec(2,4, wspace=0.05, hspace=0.05)\n",
    "for idx in range(8):\n",
    "    a = plt.subplot(gs1[idx])\n",
    "    a.axis('off')\n",
    "    imgplot = plt.imshow(conv1_layer_weight[:,:,idx], cmap=plt.cm.binary)"
   ]
  },
  {
   "cell_type": "code",
   "execution_count": null,
   "metadata": {
    "colab": {
     "base_uri": "https://localhost:8080/",
     "height": 574
    },
    "colab_type": "code",
    "executionInfo": {
     "elapsed": 1196,
     "status": "ok",
     "timestamp": 1600187762758,
     "user": {
      "displayName": "Julia Nitsch",
      "photoUrl": "https://lh3.googleusercontent.com/a-/AOh14GiEI-GAxszORnjA0WqbcKrAT2dFjghG7ikD4zjctA=s64",
      "userId": "05156771066106099172"
     },
     "user_tz": -120
    },
    "id": "BZ_XjISndzWj",
    "outputId": "afa12120-87b2-4f7d-aa59-e45f212f12d9"
   },
   "outputs": [],
   "source": [
    "conv2_layer_weight = model.layers[2].get_weights()[0][:,:,0,:]\n",
    "\n",
    "import matplotlib.gridspec as gridspec\n",
    "# Zweiter convolution layer --> 16 Filter\n",
    "fig = plt.figure(figsize=(10,10))\n",
    "gs1 = gridspec.GridSpec(4,4, wspace=0.05, hspace=0.05)\n",
    "for idx in range(16):\n",
    "    a = plt.subplot(gs1[idx])\n",
    "    a.axis('off')\n",
    "    imgplot = plt.imshow(conv2_layer_weight[:,:,idx], cmap=plt.cm.binary)"
   ]
  },
  {
   "cell_type": "code",
   "execution_count": null,
   "metadata": {
    "colab": {
     "base_uri": "https://localhost:8080/",
     "height": 574
    },
    "colab_type": "code",
    "executionInfo": {
     "elapsed": 1554,
     "status": "ok",
     "timestamp": 1600187767057,
     "user": {
      "displayName": "Julia Nitsch",
      "photoUrl": "https://lh3.googleusercontent.com/a-/AOh14GiEI-GAxszORnjA0WqbcKrAT2dFjghG7ikD4zjctA=s64",
      "userId": "05156771066106099172"
     },
     "user_tz": -120
    },
    "id": "1wNL5YHUd-OI",
    "outputId": "e00fb194-1627-4352-825a-04207827005c"
   },
   "outputs": [],
   "source": [
    "conv3_layer_weight = model.layers[4].get_weights()[0][:,:,0,:]\n",
    "\n",
    "import matplotlib.gridspec as gridspec\n",
    "# Dritter convolution layer --> 16 Filter\n",
    "fig = plt.figure(figsize=(10,10))\n",
    "gs1 = gridspec.GridSpec(4,4, wspace=0.05, hspace=0.05)\n",
    "for idx in range(16):\n",
    "    a = plt.subplot(gs1[idx])\n",
    "    a.axis('off')\n",
    "    imgplot = plt.imshow(conv3_layer_weight[:,:,idx], cmap=plt.cm.binary)"
   ]
  },
  {
   "cell_type": "markdown",
   "metadata": {
    "colab_type": "text",
    "id": "9AwV_bqccI49"
   },
   "source": [
    "# Können wir darstellen was mit dem Bild in dabei passiert?\n",
    "\n",
    "In den nachfolgenden code snippets visualisieren wir was mit der 0 so passiert wenn wir sie durch das Netz laufen lassen.\n",
    "\n"
   ]
  },
  {
   "cell_type": "code",
   "execution_count": null,
   "metadata": {
    "colab": {
     "base_uri": "https://localhost:8080/",
     "height": 461
    },
    "colab_type": "code",
    "executionInfo": {
     "elapsed": 601,
     "status": "ok",
     "timestamp": 1600188233882,
     "user": {
      "displayName": "Julia Nitsch",
      "photoUrl": "https://lh3.googleusercontent.com/a-/AOh14GiEI-GAxszORnjA0WqbcKrAT2dFjghG7ikD4zjctA=s64",
      "userId": "05156771066106099172"
     },
     "user_tz": -120
    },
    "id": "2kv4rfAcpOnB",
    "outputId": "e64ed299-8f46-40e4-dbfa-457da5e2c057"
   },
   "outputs": [],
   "source": [
    "print(model.summary())\n"
   ]
  },
  {
   "cell_type": "code",
   "execution_count": null,
   "metadata": {
    "colab": {
     "base_uri": "https://localhost:8080/",
     "height": 480
    },
    "colab_type": "code",
    "executionInfo": {
     "elapsed": 1006,
     "status": "ok",
     "timestamp": 1600188452939,
     "user": {
      "displayName": "Julia Nitsch",
      "photoUrl": "https://lh3.googleusercontent.com/a-/AOh14GiEI-GAxszORnjA0WqbcKrAT2dFjghG7ikD4zjctA=s64",
      "userId": "05156771066106099172"
     },
     "user_tz": -120
    },
    "id": "bpWxJvEVXo2Q",
    "outputId": "87593568-fb24-4fb8-82b0-e2772dc162b7"
   },
   "outputs": [],
   "source": [
    "layer_outputs = [layer.output for layer in model.layers[:6]] \n",
    "cnn_model = tf.keras.Model(inputs=model.inputs, outputs=layer_outputs)\n",
    "aktivierung_der_null = cnn_model.predict(np.expand_dims(bild_mit_ziffer_0, axis=0))\n",
    "print(len(aktivierung_der_null))\n",
    "\n",
    "\n",
    "import matplotlib.gridspec as gridspec\n",
    "# Erster convolution layer --> 8 Filter\n",
    "output_conv_1 = aktivierung_der_null[0]\n",
    "print('Aktivierungen der ersten Layer mit Groesse ', output_conv_1.shape)\n",
    "fig = plt.figure(figsize=(10,10))\n",
    "gs1 = gridspec.GridSpec(2,4, wspace=0.05, hspace=0.05)\n",
    "for idx in range(8):\n",
    "    a = plt.subplot(gs1[idx])\n",
    "    a.axis('off')\n",
    "    imgplot = plt.imshow(output_conv_1[0,:,:,idx], cmap=plt.cm.binary)\n"
   ]
  },
  {
   "cell_type": "code",
   "execution_count": null,
   "metadata": {
    "colab": {
     "base_uri": "https://localhost:8080/",
     "height": 592
    },
    "colab_type": "code",
    "executionInfo": {
     "elapsed": 1282,
     "status": "ok",
     "timestamp": 1600188475054,
     "user": {
      "displayName": "Julia Nitsch",
      "photoUrl": "https://lh3.googleusercontent.com/a-/AOh14GiEI-GAxszORnjA0WqbcKrAT2dFjghG7ikD4zjctA=s64",
      "userId": "05156771066106099172"
     },
     "user_tz": -120
    },
    "id": "KvKkV2tcb4z1",
    "outputId": "6f528b29-f688-46a2-90b8-53b5cc121a03"
   },
   "outputs": [],
   "source": [
    "# Zweiter convolution layer --> 16 Filter\n",
    "output_conv_2 = aktivierung_der_null[2]\n",
    "print('Aktivierungen der zweiten Layer mit Groesse ', output_conv_2.shape)\n",
    "fig = plt.figure(figsize=(10,10))\n",
    "gs1 = gridspec.GridSpec(4,4, wspace=0.05, hspace=0.05)\n",
    "for idx in range(16):\n",
    "    a = plt.subplot(gs1[idx])\n",
    "    a.axis('off')\n",
    "    imgplot = plt.imshow(output_conv_2[0,:,:,idx], cmap=plt.cm.binary)"
   ]
  },
  {
   "cell_type": "code",
   "execution_count": null,
   "metadata": {
    "colab": {
     "base_uri": "https://localhost:8080/",
     "height": 592
    },
    "colab_type": "code",
    "executionInfo": {
     "elapsed": 1275,
     "status": "ok",
     "timestamp": 1600188478637,
     "user": {
      "displayName": "Julia Nitsch",
      "photoUrl": "https://lh3.googleusercontent.com/a-/AOh14GiEI-GAxszORnjA0WqbcKrAT2dFjghG7ikD4zjctA=s64",
      "userId": "05156771066106099172"
     },
     "user_tz": -120
    },
    "id": "RcZ7Cf3Nb778",
    "outputId": "4b68c876-9cc3-45e0-c22b-6d4ea371a330"
   },
   "outputs": [],
   "source": [
    "# Dritter convolution layer --> 16 Filter\n",
    "output_conv_3 = aktivierung_der_null[4]\n",
    "print('Aktivierungen der dritten Layer mit Groesse ', output_conv_3.shape)\n",
    "fig = plt.figure(figsize=(10,10))\n",
    "gs1 = gridspec.GridSpec(4,4, wspace=0.05, hspace=0.05)\n",
    "for idx in range(16):\n",
    "    a = plt.subplot(gs1[idx])\n",
    "    a.axis('off')\n",
    "    imgplot = plt.imshow(output_conv_3[0,:,:,idx], cmap=plt.cm.binary)"
   ]
  },
  {
   "cell_type": "markdown",
   "metadata": {
    "colab_type": "text",
    "id": "RnlkyCx3g45B"
   },
   "source": [
    "# Könnt ihr folgendes herausfinden?\n",
    "\n",
    "\n",
    "*   Trainingszeit (=Epochen) des neuronalen Netzwerkes:\n",
    "  * Was passiert wenn man nur ganz kurz trainiert (z.B: 1 Epoche)? Wie viele der Testdaten werden dann noch richtig erkannt?\n",
    "  * Was passiert wenn man gaaaaanz  lange trainiert (z.B: 1000 Epochen) Wie viele der Testdaten werden dann richtig erkannt? Was könnt ihr dabei beobachten?\n",
    "  * **Tipp**: Findet die Stelle im Code wo trainiert wird und ändere die Anzahl der Epochen entsprechend. \n",
    "\n",
    "\n",
    "*   Was passiert wenn man die Input Zahl leicht nach links verschiebt? Wird sie dann noch immer richtig erkannt? Probiert doch einfach das Beispiel aus und beschriebt was ihr da seht. Findet ihr eine Erklärung dafür?\n",
    "\n",
    "* Was passiert wenn man die Input Zahl leicht verrauscht? Wird sie dann noch immer richtig erkannt? Probiert doch einfach das Beispiel aus und beschriebt was ihr da seht. Findet ihr eine Erklärung dafür? Woher könnte Rauschen zum Beispiel kommen, findet ihr Beispiele dafür?\n",
    "\n"
   ]
  },
  {
   "cell_type": "code",
   "execution_count": null,
   "metadata": {
    "colab": {
     "base_uri": "https://localhost:8080/",
     "height": 580
    },
    "colab_type": "code",
    "executionInfo": {
     "elapsed": 124325,
     "status": "ok",
     "timestamp": 1600017906426,
     "user": {
      "displayName": "Julia Nitsch",
      "photoUrl": "https://lh3.googleusercontent.com/a-/AOh14GiEI-GAxszORnjA0WqbcKrAT2dFjghG7ikD4zjctA=s64",
      "userId": "05156771066106099172"
     },
     "user_tz": -120
    },
    "id": "8m2q5qo1iQfa",
    "outputId": "8e47eecd-c9c0-4f2e-eafd-2ec33f2cd6e3"
   },
   "outputs": [],
   "source": [
    "# Beispiel nach links verschobene Zahl\n",
    "\n",
    "verschobene_neun = np.zeros_like(bild_mit_ziffer_9) # wir erstellen ein leeres Bild mit der gleichen Größe wie unsere 9\n",
    "verschobene_neun[:, :15] = bild_mit_ziffer_9[:, 5:20]\n",
    "\n",
    "plt.figure()\n",
    "plt.imshow(bild_mit_ziffer_9[:,:,0], cmap=plt.cm.binary)\n",
    "plt.title(\"Das ist eine richtige 9\")\n",
    "plt.show()\n",
    "\n",
    "plt.figure()\n",
    "plt.imshow(verschobene_neun[:,:,0], cmap=plt.cm.binary)\n",
    "plt.title(\"Das ist eine verschobene 9\")\n",
    "plt.show()\n",
    "\n",
    "from scipy.special import softmax\n",
    "logits_des_nn_fuer_neun = model.predict(np.expand_dims(bild_mit_ziffer_9, 0))\n",
    "wahrscheinlichkeiten_des_nn_fuer_neun = softmax(logits_des_nn_fuer_neun)[0]\n",
    "erkannte_klasse_des_nn_fuer_neun = np.argmax(wahrscheinlichkeiten_des_nn_fuer_neun)\n",
    "print('Das NN erkennt die Neun als ', erkannte_klasse_des_nn_fuer_neun, ' mit einer Wahrscheinlikeit von ', wahrscheinlichkeiten_des_nn_fuer_neun[erkannte_klasse_des_nn_fuer_neun])\n",
    "\n",
    "logits_des_nn_fuer_verschobene_neun = model.predict(np.expand_dims(verschobene_neun, 0))\n",
    "wahrscheinlichkeiten_des_nn_fuer_verschobene_neun = softmax(logits_des_nn_fuer_verschobene_neun)[0]\n",
    "erkannte_klasse_des_nn_fuer_verschobene_neun = np.argmax(wahrscheinlichkeiten_des_nn_fuer_verschobene_neun)\n",
    "print('Das NN erkennt die verschobene Neun als ', erkannte_klasse_des_nn_fuer_verschobene_neun, ' mit einer Wahrscheinlikeit von ', wahrscheinlichkeiten_des_nn_fuer_verschobene_neun[erkannte_klasse_des_nn_fuer_verschobene_neun])\n"
   ]
  },
  {
   "cell_type": "code",
   "execution_count": null,
   "metadata": {
    "colab": {
     "base_uri": "https://localhost:8080/",
     "height": 671
    },
    "colab_type": "code",
    "executionInfo": {
     "elapsed": 124643,
     "status": "ok",
     "timestamp": 1600017906751,
     "user": {
      "displayName": "Julia Nitsch",
      "photoUrl": "https://lh3.googleusercontent.com/a-/AOh14GiEI-GAxszORnjA0WqbcKrAT2dFjghG7ikD4zjctA=s64",
      "userId": "05156771066106099172"
     },
     "user_tz": -120
    },
    "id": "vM3104LCnknu",
    "outputId": "9e04c5f2-c543-41f0-a6ab-2b327bb6688c"
   },
   "outputs": [],
   "source": [
    "# Beispiel einer verrauschten Zahl\n",
    "\n",
    "verrauschten_neun = np.copy(bild_mit_ziffer_9) # wir kopieren das Bild mit der Ziffer 9\n",
    "rauschen = np.zeros_like(bild_mit_ziffer_9) # wir erstellen ein leeres bild\n",
    "bild_koordinaten = [np.random.randint(0, i - 1, 50) for i in rauschen[:,:,0].shape]\n",
    "rauschen[bild_koordinaten] = 1\n",
    "verrauschten_neun += rauschen\n",
    "bild_koordinaten = [np.random.randint(0, i - 1, 50) for i in rauschen[:,:,0].shape]\n",
    "rauschen[bild_koordinaten] = -1\n",
    "verrauschten_neun += rauschen\n",
    "verrauschten_neun = np.clip(verrauschten_neun,0,1)\n",
    "\n",
    "\n",
    "plt.figure()\n",
    "plt.imshow(bild_mit_ziffer_9[:,:,0], cmap=plt.cm.binary, vmin=0, vmax=1)\n",
    "plt.title(\"Das ist eine richtige 9\")\n",
    "plt.show()\n",
    "\n",
    "plt.figure()\n",
    "plt.imshow(verrauschten_neun[:,:,0], cmap=plt.cm.binary, vmin=0, vmax=1)\n",
    "plt.title(\"Das ist eine verrauschten 9\")\n",
    "plt.show()\n",
    "\n",
    "from scipy.special import softmax\n",
    "logits_des_nn_fuer_neun = model.predict(np.expand_dims(bild_mit_ziffer_9, 0))\n",
    "wahrscheinlichkeiten_des_nn_fuer_neun = softmax(logits_des_nn_fuer_neun)[0]\n",
    "erkannte_klasse_des_nn_fuer_neun = np.argmax(wahrscheinlichkeiten_des_nn_fuer_neun)\n",
    "print('Das NN erkennt die Neun als ', erkannte_klasse_des_nn_fuer_neun, ' mit einer Wahrscheinlikeit von ', wahrscheinlichkeiten_des_nn_fuer_neun[erkannte_klasse_des_nn_fuer_neun])\n",
    "\n",
    "logits_des_nn_fuer_verrauschten_neun = model.predict(np.expand_dims(verrauschten_neun, 0))\n",
    "wahrscheinlichkeiten_des_nn_fuer_verrauschten_neun = softmax(logits_des_nn_fuer_verrauschten_neun)[0]\n",
    "erkannte_klasse_des_nn_fuer_verrauschten_neun = np.argmax(wahrscheinlichkeiten_des_nn_fuer_verrauschten_neun)\n",
    "print('Das NN erkennt die verrauschten Neun als ', erkannte_klasse_des_nn_fuer_verrauschten_neun, ' mit einer Wahrscheinlikeit von ', wahrscheinlichkeiten_des_nn_fuer_verrauschten_neun[erkannte_klasse_des_nn_fuer_verrauschten_neun])"
   ]
  }
 ],
 "metadata": {
  "colab": {
   "collapsed_sections": [],
   "name": "modul_2_mnist-digits_cnn.ipynb",
   "provenance": []
  },
  "kernelspec": {
   "display_name": "Python 3",
   "name": "python3"
  }
 },
 "nbformat": 4,
 "nbformat_minor": 0
}
