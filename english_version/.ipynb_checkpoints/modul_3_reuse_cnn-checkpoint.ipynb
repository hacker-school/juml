{
 "cells": [
  {
   "cell_type": "markdown",
   "metadata": {
    "colab_type": "text",
    "id": "-wFUjZTmcG5a"
   },
   "source": [
    "# Library loading and restoring of CNN weights\n",
    "\n",
    "First we load the library and restore the weights."
   ]
  },
  {
   "cell_type": "code",
   "execution_count": null,
   "metadata": {
    "colab": {
     "base_uri": "https://localhost:8080/",
     "height": 405
    },
    "colab_type": "code",
    "executionInfo": {
     "elapsed": 97482,
     "status": "error",
     "timestamp": 1600625422711,
     "user": {
      "displayName": "Julia Nitsch",
      "photoUrl": "https://lh3.googleusercontent.com/a-/AOh14GiEI-GAxszORnjA0WqbcKrAT2dFjghG7ikD4zjctA=s64",
      "userId": "05156771066106099172"
     },
     "user_tz": -120
    },
    "id": "0xLkmPMibmpd",
    "outputId": "37401fce-48c8-42cb-eadc-cc4f7e2c035e"
   },
   "outputs": [],
   "source": [
    "# TensorFlow and tf.keras\n",
    "import tensorflow as tf\n",
    "from tensorflow import keras\n",
    "import numpy as np\n",
    "import matplotlib.pyplot as plt\n",
    "print(tf.__version__)\n",
    "\n",
    "from google.colab import drive\n",
    "drive.mount('/content/drive')\n",
    "model = tf.keras.models.load_model('/content/drive/My Drive/modul_2_cnn/model')\n",
    "\n"
   ]
  },
  {
   "cell_type": "markdown",
   "metadata": {
    "colab_type": "text",
    "id": "jE7Uqzd8fkzm"
   },
   "source": [
    "# Testing\n",
    "We have already classified the nine correctly in module 2. Let's check if this still works."
   ]
  },
  {
   "cell_type": "code",
   "execution_count": null,
   "metadata": {
    "colab": {
     "base_uri": "https://localhost:8080/",
     "height": 298
    },
    "colab_type": "code",
    "executionInfo": {
     "elapsed": 1289,
     "status": "ok",
     "timestamp": 1600017978980,
     "user": {
      "displayName": "Julia Nitsch",
      "photoUrl": "https://lh3.googleusercontent.com/a-/AOh14GiEI-GAxszORnjA0WqbcKrAT2dFjghG7ikD4zjctA=s64",
      "userId": "05156771066106099172"
     },
     "user_tz": -120
    },
    "id": "EJv19cyoeu9r",
    "outputId": "934296d7-79f4-4540-bf84-a3b6578458c5"
   },
   "outputs": [],
   "source": [
    "# We test for the first time on our old data to test if the loading worked.\n",
    "mnist = keras.datasets.mnist\n",
    "(_, _), (test_images, test_labels) = mnist.load_data()\n",
    "test_images = np.expand_dims(test_images / 255.0, -1)\n",
    "\n",
    "# Load a 0 from the testing set\n",
    "indicies_of_0 = (np.where(test_labels == 0))[0]\n",
    "image_with_0 = test_images[indicies_of_0[0]]\n",
    "\n",
    "plt.figure()\n",
    "plt.imshow(image_with_0[:,:,0], cmap=plt.cm.binary)\n",
    "plt.title(\"This is a 0.\")\n",
    "plt.show()\n",
    "from scipy.special import softmax\n",
    "logits_of_zero = model.predict(np.expand_dims(image_with_0, 0))\n",
    "probabilities_of_zero = softmax(logits_of_zero)[0]\n",
    "detected_class_of_zero = np.argmax(probabilities_of_zero)\n",
    "print('The NN classified the 0 as ', detected_class_of_zero, ' with a probability of ', probabilities_of_zero[detected_class_of_zero])\n"
   ]
  },
  {
   "cell_type": "markdown",
   "metadata": {
    "colab_type": "text",
    "id": "95Nf2F41f25S"
   },
   "source": [
    "# Own digit\n",
    "Can the network also recognize our own digit? For this we have to load the digit first, visualize it and see if the NN recognizes it :-)"
   ]
  },
  {
   "cell_type": "code",
   "execution_count": null,
   "metadata": {
    "colab": {
     "base_uri": "https://localhost:8080/",
     "height": 334
    },
    "colab_type": "code",
    "executionInfo": {
     "elapsed": 1265,
     "status": "ok",
     "timestamp": 1600017988164,
     "user": {
      "displayName": "Julia Nitsch",
      "photoUrl": "https://lh3.googleusercontent.com/a-/AOh14GiEI-GAxszORnjA0WqbcKrAT2dFjghG7ikD4zjctA=s64",
      "userId": "05156771066106099172"
     },
     "user_tz": -120
    },
    "id": "gRO4xoDEgDPI",
    "outputId": "426de91c-82fb-4a48-d015-fb7442f7a818"
   },
   "outputs": [],
   "source": [
    "my_image = plt.imread('/content/drive/My Drive/zwei.png')\n",
    "print('Das Bild hat folgende Dimensionen ', my_image.shape) # png images are stored as RGBA --> but we requrie a grayscale image with 28x28x1\n",
    "\n",
    "# take mean values of image for grayscale\n",
    "my_gray_image = np.mean(my_image[:,:,:3], axis=-1) # 28x28\n",
    "my_gray_image = np.expand_dims(my_gray_image, axis=-1)\n",
    "print('The grayscale image has following dimenson ', my_gray_image.shape)\n",
    "\n",
    "plt.figure()\n",
    "plt.imshow(my_gray_image[:,:,0], cmap=plt.cm.binary)\n",
    "plt.title(\"My Digit\")\n",
    "plt.show()\n",
    "\n",
    "logits = model.predict(np.expand_dims(my_gray_image, axis=0))\n",
    "probabilities = softmax(logits)[0]\n",
    "detected_class = np.argmax(probabilities)\n",
    "print('My image is classified as ', detected_class, ' with a probability of ', probabilities[detected_class])"
   ]
  },
  {
   "cell_type": "markdown",
   "metadata": {
    "colab_type": "text",
    "id": "StpMtRLiQ3xs"
   },
   "source": [
    "# Task Data Formats\n",
    "\n",
    "\n",
    "* How important is it to show the network the same data it already saw during training?\n",
    "* What does RGB mean and what is a gray scale image?"
   ]
  }
 ],
 "metadata": {
  "colab": {
   "collapsed_sections": [],
   "name": "modul_3_cnn_wiederverwenden.ipynb",
   "provenance": []
  },
  "kernelspec": {
   "display_name": "Python 3",
   "language": "python",
   "name": "python3"
  },
  "language_info": {
   "codemirror_mode": {
    "name": "ipython",
    "version": 3
   },
   "file_extension": ".py",
   "mimetype": "text/x-python",
   "name": "python",
   "nbconvert_exporter": "python",
   "pygments_lexer": "ipython3",
   "version": "3.7.6"
  }
 },
 "nbformat": 4,
 "nbformat_minor": 1
}
