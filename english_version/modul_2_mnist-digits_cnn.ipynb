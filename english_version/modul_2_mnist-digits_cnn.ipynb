{
 "cells": [
  {
   "cell_type": "markdown",
   "metadata": {
    "colab_type": "text",
    "id": "-wFUjZTmcG5a"
   },
   "source": [
    "# Dataset loading\n",
    "\n",
    "In the first step we prepare everything and load our dataset with handwritten digits. Our goal is to load the image into our program and classify it. \n",
    "\n",
    "Classifying means to recognize which digit it is. Is it a *0* or a *9*?\n",
    "\n",
    "A small hint # signals a comment in the code, so programmers note hints to understand lines of code easier ;-)"
   ]
  },
  {
   "cell_type": "code",
   "execution_count": null,
   "metadata": {
    "colab": {
     "base_uri": "https://localhost:8080/",
     "height": 70
    },
    "colab_type": "code",
    "executionInfo": {
     "elapsed": 3720,
     "status": "ok",
     "timestamp": 1600187597702,
     "user": {
      "displayName": "Julia Nitsch",
      "photoUrl": "https://lh3.googleusercontent.com/a-/AOh14GiEI-GAxszORnjA0WqbcKrAT2dFjghG7ikD4zjctA=s64",
      "userId": "05156771066106099172"
     },
     "user_tz": -120
    },
    "id": "0xLkmPMibmpd",
    "outputId": "bc2b63f2-17fd-406a-f224-213dc2b33fd2"
   },
   "outputs": [],
   "source": [
    "# TensorFlow and tf.keras\n",
    "import tensorflow as tf\n",
    "from tensorflow import keras\n",
    "import numpy as np\n",
    "import matplotlib.pyplot as plt\n",
    "print(tf.__version__)\n",
    "\n",
    "# We are loading the data\n",
    "mnist = keras.datasets.mnist\n",
    "(train_images, train_labels), (test_images, test_labels) = mnist.load_data()\n",
    "\n",
    "# We normalize the images, thus that it contains values between [0 - 1]. This is prefereable for NNs.\n",
    "train_images = train_images / 255.0\n",
    "test_images = test_images / 255.0\n"
   ]
  },
  {
   "cell_type": "markdown",
   "metadata": {
    "colab_type": "text",
    "id": "e0D6xKrIcElq"
   },
   "source": [
    "# Visualize - Illustrate - Pictorialize\n",
    "\n",
    "In the next step, we load a *0* and a *9* from our training dataset and visualize the two digits."
   ]
  },
  {
   "cell_type": "code",
   "execution_count": null,
   "metadata": {
    "colab": {
     "base_uri": "https://localhost:8080/",
     "height": 544
    },
    "colab_type": "code",
    "executionInfo": {
     "elapsed": 1637,
     "status": "ok",
     "timestamp": 1600187607533,
     "user": {
      "displayName": "Julia Nitsch",
      "photoUrl": "https://lh3.googleusercontent.com/a-/AOh14GiEI-GAxszORnjA0WqbcKrAT2dFjghG7ikD4zjctA=s64",
      "userId": "05156771066106099172"
     },
     "user_tz": -120
    },
    "id": "QNUbehzkdgtE",
    "outputId": "030a2af2-b774-41f2-83e1-2c2a194b3130"
   },
   "outputs": [],
   "source": [
    "# Load a 0 from the training data\n",
    "indicies_of_all_0 = (np.where(test_labels == 0))[0]\n",
    "image_with_0 = test_images[indicies_of_all_0[0]]\n",
    "\n",
    "# Lade eine 9 aus den Trainingsdaten\n",
    "indicies_of_all_9 = (np.where(test_labels == 9))[0]\n",
    "image_with_9 = test_images[indicies_of_all_9[0]]\n",
    "\n",
    "# Visualisieren (= anzeigen) der Bilder, damit wir auch sehen ob wir das ganze richtig geladen haben \n",
    "plt.figure()\n",
    "plt.imshow(image_with_0, cmap=plt.cm.binary)\n",
    "plt.title(\"This is a 0\")\n",
    "plt.show()\n",
    "\n",
    "plt.figure()\n",
    "plt.imshow(image_with_9, cmap=plt.cm.binary)\n",
    "plt.title(\"This is a 9\")\n",
    "plt.show()"
   ]
  },
  {
   "cell_type": "markdown",
   "metadata": {
    "colab_type": "text",
    "id": "aFmWf_OtgUeE"
   },
   "source": [
    "# Define neural network\n",
    "Next we need to define the architecture of our neural network. How many layers should it have, how many neurons do these layers have.\n",
    "\n",
    "We first decide on the following architecture:\n",
    "\n",
    "\n",
    "*   Input Layer: 28x28 (this is the size of our input images!)\n",
    "*   3 x Convolutionial layer with pooling layer \n",
    "*   Fully Connected Network (FCN) layer (called *dense* in TF!) with 128 neurons with ReLU activation\n",
    "*   Output are 10 neurons (we have 10 digits we want to classify)\n",
    "\n"
   ]
  },
  {
   "cell_type": "code",
   "execution_count": null,
   "metadata": {
    "colab": {},
    "colab_type": "code",
    "executionInfo": {
     "elapsed": 901,
     "status": "ok",
     "timestamp": 1600187616561,
     "user": {
      "displayName": "Julia Nitsch",
      "photoUrl": "https://lh3.googleusercontent.com/a-/AOh14GiEI-GAxszORnjA0WqbcKrAT2dFjghG7ikD4zjctA=s64",
      "userId": "05156771066106099172"
     },
     "user_tz": -120
    },
    "id": "LP0ZTVUqcC5x"
   },
   "outputs": [],
   "source": [
    "# network architecture\n",
    "model = keras.Sequential([\n",
    "    keras.layers.Conv2D(8, (3, 3), activation='relu', input_shape=(28,28,1)),\n",
    "    keras.layers.MaxPooling2D((2, 2)),\n",
    "    keras.layers.Conv2D(16, (3, 3), activation='relu'),\n",
    "    keras.layers.MaxPooling2D((2, 2)),\n",
    "    keras.layers.Conv2D(16, (3, 3), activation='relu'),\n",
    "    keras.layers.Flatten(),\n",
    "    keras.layers.Dense(128, activation='relu'),\n",
    "    keras.layers.Dense(10)\n",
    "])\n",
    "# Let TF build the network\n",
    "model.compile(optimizer='adam',\n",
    "              loss=tf.keras.losses.SparseCategoricalCrossentropy(from_logits=True),\n",
    "              metrics=['accuracy'])"
   ]
  },
  {
   "cell_type": "markdown",
   "metadata": {
    "colab_type": "text",
    "id": "Q9PhELVyhKD7"
   },
   "source": [
    "# Train the neural network\n",
    "In the next step we train our network with the data we loaded above. Training is also called *fitting*, because during training the weights of the neurons are adjusted, i.e. they are fitted. The word comes from English! \n",
    "\n",
    "Of course we have to tell TF how long the network should be trained. This is expressed by how often the training data should be shown to the network. \n",
    "\n",
    "* 1 x show all training data = 1 epoch\n",
    "* 2 x show all training data = 2 epochs\n"
   ]
  },
  {
   "cell_type": "code",
   "execution_count": null,
   "metadata": {
    "colab": {
     "base_uri": "https://localhost:8080/",
     "height": 212
    },
    "colab_type": "code",
    "executionInfo": {
     "elapsed": 127840,
     "status": "ok",
     "timestamp": 1600187747434,
     "user": {
      "displayName": "Julia Nitsch",
      "photoUrl": "https://lh3.googleusercontent.com/a-/AOh14GiEI-GAxszORnjA0WqbcKrAT2dFjghG7ikD4zjctA=s64",
      "userId": "05156771066106099172"
     },
     "user_tz": -120
    },
    "id": "zfgWUUFnhTED",
    "outputId": "8bda76ea-9862-4e04-c59e-ff12173ef418"
   },
   "outputs": [],
   "source": [
    "# Train the network for 5 epochs\n",
    "model.fit(train_images, train_labels, epochs=5)\n",
    "\n",
    "#Save my model\n",
    "# 1) select top level drive Folder in Browser & create directory with name modul_2_cnn --> 'right click' -> new Folder -> modul_2_cnn'\n",
    "# from google.colab import drive\n",
    "# drive.mount('/content/drive')\n",
    "# tf.saved_model.save(model, '/content/drive/My Drive/modul_2_cnn/model')\n"
   ]
  },
  {
   "cell_type": "markdown",
   "metadata": {
    "colab_type": "text",
    "id": "VJHCQFoniDM0"
   },
   "source": [
    "# Check how good the network is\n",
    "We have trained the network, now we also want to know how well it works. We also say we *evaluate* the network now. We evaluate with the test data. We ask how many of the test data are correctly classified, that is, how often the network correctly recognizes the number."
   ]
  },
  {
   "cell_type": "code",
   "execution_count": null,
   "metadata": {
    "colab": {
     "base_uri": "https://localhost:8080/",
     "height": 52
    },
    "colab_type": "code",
    "executionInfo": {
     "elapsed": 2676,
     "status": "ok",
     "timestamp": 1600187757024,
     "user": {
      "displayName": "Julia Nitsch",
      "photoUrl": "https://lh3.googleusercontent.com/a-/AOh14GiEI-GAxszORnjA0WqbcKrAT2dFjghG7ikD4zjctA=s64",
      "userId": "05156771066106099172"
     },
     "user_tz": -120
    },
    "id": "fzI4H2ueijYC",
    "outputId": "f3f6b4dd-ca1c-458f-f7db-1d4c351f769a"
   },
   "outputs": [],
   "source": [
    "# Testing the network\n",
    "test_loss, test_acc = model.evaluate(test_images,  test_labels, verbose=0)\n",
    "print('Our result:')\n",
    "print('Out of ', test_images.shape[0], ' we correctly classified ', int(test_acc * test_images.shape[0]), '. These are {:.2f}% of the data'.format(test_acc * 100.0))"
   ]
  },
  {
   "cell_type": "markdown",
   "metadata": {
    "colab_type": "text",
    "id": "qyltb5AFXY1q"
   },
   "source": [
    "# Can we visualize the NN layers?\n",
    "\n",
    "What happens inside the *convolutional layers*? How do the filters look like? That's what we visualize in the following code blocks"
   ]
  },
  {
   "cell_type": "code",
   "execution_count": null,
   "metadata": {
    "colab": {
     "base_uri": "https://localhost:8080/",
     "height": 444
    },
    "colab_type": "code",
    "executionInfo": {
     "elapsed": 755,
     "status": "ok",
     "timestamp": 1600187759038,
     "user": {
      "displayName": "Julia Nitsch",
      "photoUrl": "https://lh3.googleusercontent.com/a-/AOh14GiEI-GAxszORnjA0WqbcKrAT2dFjghG7ikD4zjctA=s64",
      "userId": "05156771066106099172"
     },
     "user_tz": -120
    },
    "id": "C-cuYCH-cZHs",
    "outputId": "0d9f34b4-b110-40c7-ff4c-6e2f1e963130"
   },
   "outputs": [],
   "source": [
    "conv1_layer_weight = model.layers[0].get_weights()[0][:,:,0,:]\n",
    "\n",
    "import matplotlib.gridspec as gridspec\n",
    "# First convolutional layer --> 8 Filter\n",
    "fig = plt.figure(figsize=(10,10))\n",
    "gs1 = gridspec.GridSpec(2,4, wspace=0.05, hspace=0.05)\n",
    "for idx in range(8):\n",
    "    a = plt.subplot(gs1[idx])\n",
    "    a.axis('off')\n",
    "    imgplot = plt.imshow(conv1_layer_weight[:,:,idx], cmap=plt.cm.binary)"
   ]
  },
  {
   "cell_type": "code",
   "execution_count": null,
   "metadata": {
    "colab": {
     "base_uri": "https://localhost:8080/",
     "height": 574
    },
    "colab_type": "code",
    "executionInfo": {
     "elapsed": 1196,
     "status": "ok",
     "timestamp": 1600187762758,
     "user": {
      "displayName": "Julia Nitsch",
      "photoUrl": "https://lh3.googleusercontent.com/a-/AOh14GiEI-GAxszORnjA0WqbcKrAT2dFjghG7ikD4zjctA=s64",
      "userId": "05156771066106099172"
     },
     "user_tz": -120
    },
    "id": "BZ_XjISndzWj",
    "outputId": "afa12120-87b2-4f7d-aa59-e45f212f12d9"
   },
   "outputs": [],
   "source": [
    "conv2_layer_weight = model.layers[2].get_weights()[0][:,:,0,:]\n",
    "\n",
    "import matplotlib.gridspec as gridspec\n",
    "# Second convolutional layer --> 16 Filter\n",
    "fig = plt.figure(figsize=(10,10))\n",
    "gs1 = gridspec.GridSpec(4,4, wspace=0.05, hspace=0.05)\n",
    "for idx in range(16):\n",
    "    a = plt.subplot(gs1[idx])\n",
    "    a.axis('off')\n",
    "    imgplot = plt.imshow(conv2_layer_weight[:,:,idx], cmap=plt.cm.binary)"
   ]
  },
  {
   "cell_type": "code",
   "execution_count": null,
   "metadata": {
    "colab": {
     "base_uri": "https://localhost:8080/",
     "height": 574
    },
    "colab_type": "code",
    "executionInfo": {
     "elapsed": 1554,
     "status": "ok",
     "timestamp": 1600187767057,
     "user": {
      "displayName": "Julia Nitsch",
      "photoUrl": "https://lh3.googleusercontent.com/a-/AOh14GiEI-GAxszORnjA0WqbcKrAT2dFjghG7ikD4zjctA=s64",
      "userId": "05156771066106099172"
     },
     "user_tz": -120
    },
    "id": "1wNL5YHUd-OI",
    "outputId": "e00fb194-1627-4352-825a-04207827005c"
   },
   "outputs": [],
   "source": [
    "conv3_layer_weight = model.layers[4].get_weights()[0][:,:,0,:]\n",
    "\n",
    "import matplotlib.gridspec as gridspec\n",
    "# Third convolution layer --> 16 Filter\n",
    "fig = plt.figure(figsize=(10,10))\n",
    "gs1 = gridspec.GridSpec(4,4, wspace=0.05, hspace=0.05)\n",
    "for idx in range(16):\n",
    "    a = plt.subplot(gs1[idx])\n",
    "    a.axis('off')\n",
    "    imgplot = plt.imshow(conv3_layer_weight[:,:,idx], cmap=plt.cm.binary)"
   ]
  },
  {
   "cell_type": "markdown",
   "metadata": {
    "colab_type": "text",
    "id": "9AwV_bqccI49"
   },
   "source": [
    "# Can we visualize the effects on the image?\n",
    "\n",
    "We visualize the effects of the filters in the three layer on the 0 image.\n",
    "\n"
   ]
  },
  {
   "cell_type": "code",
   "execution_count": null,
   "metadata": {
    "colab": {
     "base_uri": "https://localhost:8080/",
     "height": 461
    },
    "colab_type": "code",
    "executionInfo": {
     "elapsed": 601,
     "status": "ok",
     "timestamp": 1600188233882,
     "user": {
      "displayName": "Julia Nitsch",
      "photoUrl": "https://lh3.googleusercontent.com/a-/AOh14GiEI-GAxszORnjA0WqbcKrAT2dFjghG7ikD4zjctA=s64",
      "userId": "05156771066106099172"
     },
     "user_tz": -120
    },
    "id": "2kv4rfAcpOnB",
    "outputId": "e64ed299-8f46-40e4-dbfa-457da5e2c057"
   },
   "outputs": [],
   "source": [
    "print(model.summary())\n"
   ]
  },
  {
   "cell_type": "code",
   "execution_count": null,
   "metadata": {
    "colab": {
     "base_uri": "https://localhost:8080/",
     "height": 480
    },
    "colab_type": "code",
    "executionInfo": {
     "elapsed": 1006,
     "status": "ok",
     "timestamp": 1600188452939,
     "user": {
      "displayName": "Julia Nitsch",
      "photoUrl": "https://lh3.googleusercontent.com/a-/AOh14GiEI-GAxszORnjA0WqbcKrAT2dFjghG7ikD4zjctA=s64",
      "userId": "05156771066106099172"
     },
     "user_tz": -120
    },
    "id": "bpWxJvEVXo2Q",
    "outputId": "87593568-fb24-4fb8-82b0-e2772dc162b7"
   },
   "outputs": [],
   "source": [
    "layer_outputs = [layer.output for layer in model.layers[:6]] \n",
    "cnn_model = tf.keras.Model(inputs=model.inputs, outputs=layer_outputs)\n",
    "activation_of_zero = cnn_model.predict(np.expand_dims(image_with_0, axis=0))\n",
    "print(len(activation_of_zero))\n",
    "\n",
    "\n",
    "import matplotlib.gridspec as gridspec\n",
    "# First convolutional layer --> 8 Filter\n",
    "output_conv_1 = activation_of_zero[0]\n",
    "print('Activaiton of first layer with shape: ', output_conv_1.shape)\n",
    "fig = plt.figure(figsize=(10,10))\n",
    "gs1 = gridspec.GridSpec(2,4, wspace=0.05, hspace=0.05)\n",
    "for idx in range(8):\n",
    "    a = plt.subplot(gs1[idx])\n",
    "    a.axis('off')\n",
    "    imgplot = plt.imshow(output_conv_1[0,:,:,idx], cmap=plt.cm.binary)\n"
   ]
  },
  {
   "cell_type": "code",
   "execution_count": null,
   "metadata": {
    "colab": {
     "base_uri": "https://localhost:8080/",
     "height": 592
    },
    "colab_type": "code",
    "executionInfo": {
     "elapsed": 1282,
     "status": "ok",
     "timestamp": 1600188475054,
     "user": {
      "displayName": "Julia Nitsch",
      "photoUrl": "https://lh3.googleusercontent.com/a-/AOh14GiEI-GAxszORnjA0WqbcKrAT2dFjghG7ikD4zjctA=s64",
      "userId": "05156771066106099172"
     },
     "user_tz": -120
    },
    "id": "KvKkV2tcb4z1",
    "outputId": "6f528b29-f688-46a2-90b8-53b5cc121a03"
   },
   "outputs": [],
   "source": [
    "# Second convolutional layer --> 16 Filter\n",
    "output_conv_2 = activation_of_zero[2]\n",
    "print('Activaiton of second layer with shape: ', output_conv_2.shape)\n",
    "fig = plt.figure(figsize=(10,10))\n",
    "gs1 = gridspec.GridSpec(4,4, wspace=0.05, hspace=0.05)\n",
    "for idx in range(16):\n",
    "    a = plt.subplot(gs1[idx])\n",
    "    a.axis('off')\n",
    "    imgplot = plt.imshow(output_conv_2[0,:,:,idx], cmap=plt.cm.binary)"
   ]
  },
  {
   "cell_type": "code",
   "execution_count": null,
   "metadata": {
    "colab": {
     "base_uri": "https://localhost:8080/",
     "height": 592
    },
    "colab_type": "code",
    "executionInfo": {
     "elapsed": 1275,
     "status": "ok",
     "timestamp": 1600188478637,
     "user": {
      "displayName": "Julia Nitsch",
      "photoUrl": "https://lh3.googleusercontent.com/a-/AOh14GiEI-GAxszORnjA0WqbcKrAT2dFjghG7ikD4zjctA=s64",
      "userId": "05156771066106099172"
     },
     "user_tz": -120
    },
    "id": "RcZ7Cf3Nb778",
    "outputId": "4b68c876-9cc3-45e0-c22b-6d4ea371a330"
   },
   "outputs": [],
   "source": [
    "# Dritter convolution layer --> 16 Filter\n",
    "output_conv_3 = activation_of_zero[4]\n",
    "print('Activaiton of third layer with shape: ', output_conv_3.shape)\n",
    "fig = plt.figure(figsize=(10,10))\n",
    "gs1 = gridspec.GridSpec(4,4, wspace=0.05, hspace=0.05)\n",
    "for idx in range(16):\n",
    "    a = plt.subplot(gs1[idx])\n",
    "    a.axis('off')\n",
    "    imgplot = plt.imshow(output_conv_3[0,:,:,idx], cmap=plt.cm.binary)"
   ]
  },
  {
   "cell_type": "markdown",
   "metadata": {
    "colab_type": "text",
    "id": "RnlkyCx3g45B"
   },
   "source": [
    "# Can you find out the following.\n",
    "\n",
    "\n",
    "* Training time (= epochs) of the neural network:\n",
    "  * What happens if you train only for a very short time (e.g.: 1 epoch)? How many of the test data are then still recognized correctly?\n",
    "  * What happens if you train for a long time (e.g. 1000 epochs)? How many of the test data will be recognized correctly then? What can you observe?\n",
    "  * **Tip**: Find the place in the code where you train and change the number of epochs accordingly. \n",
    "\n",
    "\n",
    "* What happens if you shift the input number slightly to the left? Will it still be recognized correctly? Just try the example and describe what you see. Can you find an explanation for it?\n",
    "\n",
    "* What happens if the input number is slightly noisy? Is it still recognized correctly? Just try the example and describe what you see. Can you find an explanation for it? Where could noise come from, for example, can you find examples of it?"
   ]
  },
  {
   "cell_type": "code",
   "execution_count": null,
   "metadata": {
    "colab": {
     "base_uri": "https://localhost:8080/",
     "height": 580
    },
    "colab_type": "code",
    "executionInfo": {
     "elapsed": 124325,
     "status": "ok",
     "timestamp": 1600017906426,
     "user": {
      "displayName": "Julia Nitsch",
      "photoUrl": "https://lh3.googleusercontent.com/a-/AOh14GiEI-GAxszORnjA0WqbcKrAT2dFjghG7ikD4zjctA=s64",
      "userId": "05156771066106099172"
     },
     "user_tz": -120
    },
    "id": "8m2q5qo1iQfa",
    "outputId": "8e47eecd-c9c0-4f2e-eafd-2ec33f2cd6e3"
   },
   "outputs": [],
   "source": [
    "# Example of shifted 9\n",
    "\n",
    "shifted_nine = np.zeros_like(image_with_9) # we create an empty image of the same size as the 9\n",
    "shifted_nine[:, :15] = shifted_nine[:, 8:23]\n",
    "\n",
    "plt.figure()\n",
    "plt.imshow(image_with_9, cmap=plt.cm.binary)\n",
    "plt.title(\"This is the correct 9\")\n",
    "plt.show()\n",
    "\n",
    "plt.figure()\n",
    "plt.imshow(shifted_9, cmap=plt.cm.binary)\n",
    "plt.title(\"This is the shifted 9\")\n",
    "plt.show()\n",
    "\n",
    "from scipy.special import softmax\n",
    "logits_of_nine = model.predict(np.expand_dims(image_with_9, 0))\n",
    "probabilities_of_nine = softmax(logits_of_nine)[0]\n",
    "detected_class_of_nine = np.argmax(probabilities_of_nine)\n",
    "print('The NN classified the 9 as ', detected_class_of_nine, ' with a probability of ', probabilities_of_nine[detected_class_of_nine])\n",
    "\n",
    "logits_of_shifted_nine = model.predict(np.expand_dims(shifted_nine, 0))\n",
    "probabilities_of_shifted_nine = softmax(logits_of_shifted_nine)[0]\n",
    "detected_class_of_shifted_nine = np.argmax(probabilities_of_shifted_nine)\n",
    "print('The NN classified the shifted 9 as ', detected_class_of_shifted_nine, ' with a probability of ', probabilities_of_shifted_nine[detected_class_of_shifted_nine])\n"
   ]
  },
  {
   "cell_type": "code",
   "execution_count": null,
   "metadata": {
    "colab": {
     "base_uri": "https://localhost:8080/",
     "height": 671
    },
    "colab_type": "code",
    "executionInfo": {
     "elapsed": 124643,
     "status": "ok",
     "timestamp": 1600017906751,
     "user": {
      "displayName": "Julia Nitsch",
      "photoUrl": "https://lh3.googleusercontent.com/a-/AOh14GiEI-GAxszORnjA0WqbcKrAT2dFjghG7ikD4zjctA=s64",
      "userId": "05156771066106099172"
     },
     "user_tz": -120
    },
    "id": "vM3104LCnknu",
    "outputId": "9e04c5f2-c543-41f0-a6ab-2b327bb6688c"
   },
   "outputs": [],
   "source": [
    "# Example of noised 9\n",
    "\n",
    "noised_nine = np.copy(image_with_9) \n",
    "noise = np.zeros_like(image_with_9) \n",
    "image_coordinates = [np.random.randint(0, i - 1, 50) for i in noise.shape]\n",
    "noise[image_coordinates] = 1\n",
    "noised_nine += noise\n",
    "image_coordinates = [np.random.randint(0, i - 1, 50) for i in noise.shape]\n",
    "noise[image_coordinates] = -1\n",
    "noised_nine += noise\n",
    "noised_nine = np.clip(noised_nine,0,1)\n",
    "\n",
    "\n",
    "plt.figure()\n",
    "plt.imshow(image_with_9, cmap=plt.cm.binary)\n",
    "plt.title(\"This is the correct 9\")\n",
    "plt.show()\n",
    "\n",
    "plt.figure()\n",
    "plt.imshow(noised_nine, cmap=plt.cm.binary)\n",
    "plt.title(\"This is the noised 9\")\n",
    "plt.show()\n",
    "\n",
    "from scipy.special import softmax\n",
    "logits_of_nine = model.predict(np.expand_dims(image_with_9, 0))\n",
    "probabilities_of_nine = softmax(logits_of_nine)[0]\n",
    "detected_class_of_nine = np.argmax(probabilities_of_nine)\n",
    "print('The NN classified the 9 as ', detected_class_of_nine, ' with a probability of ', probabilities_of_nine[detected_class_of_nine])\n",
    "\n",
    "logits_of_noised_nine = model.predict(np.expand_dims(noised_nine, 0))\n",
    "probabilities_of_noised_nine = softmax(logits_of_noised_nine)[0]\n",
    "detected_class_of_noised_nine = np.argmax(probabilities_of_noised_nine)\n",
    "print('The NN classified the noised 9 as ', detected_class_of_noised_nine, ' with a probability of ', probabilities_of_noised_nine[detected_class_of_noised_nine])\n"
   ]
  }
 ],
 "metadata": {
  "colab": {
   "collapsed_sections": [],
   "name": "modul_2_mnist-digits_cnn.ipynb",
   "provenance": []
  },
  "kernelspec": {
   "display_name": "Python 3",
   "language": "python",
   "name": "python3"
  },
  "language_info": {
   "codemirror_mode": {
    "name": "ipython",
    "version": 3
   },
   "file_extension": ".py",
   "mimetype": "text/x-python",
   "name": "python",
   "nbconvert_exporter": "python",
   "pygments_lexer": "ipython3",
   "version": "3.7.6"
  }
 },
 "nbformat": 4,
 "nbformat_minor": 1
}
