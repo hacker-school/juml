{
 "cells": [
  {
   "cell_type": "markdown",
   "metadata": {
    "colab_type": "text",
    "id": "BQqBe05SiEr7"
   },
   "source": [
    "# Super einfaches Beispiel\n",
    "\n",
    "Das ist eine Textbox. Die macht nichts anderes als Text anzuzeigen.\n",
    "\n",
    " | \\\\\n",
    " | darunter kommt etwas Spannendes --> die Code box \\\\\n",
    " | \\\\\n",
    " v \\\\\n",
    "\n"
   ]
  },
  {
   "cell_type": "code",
   "execution_count": null,
   "metadata": {
    "colab": {
     "base_uri": "https://localhost:8080/",
     "height": 34
    },
    "colab_type": "code",
    "id": "MRYr4gEQiDdT",
    "outputId": "90bec431-9562-4e41-9f2f-71ad97352260"
   },
   "outputs": [],
   "source": [
    "# Die code box führt Python code aus. Alles was mit einem hash beginnt sind Kommentarzeilen und werden nicht ausgeführt.\n",
    "meine_variable = 5 # KOmmentare könnnen auch nach einem Codeteil stehen und werden ebenfalls nicht ausgeführt. Hier weisen wir unserer Variable den Wert 5 zu\n",
    "print(meine_variable) # das print statement erzeugt eine Ausgabe. Führe doch einmal den Code block mit dem Play Signal aus. Was siehst du? "
   ]
  },
  {
   "cell_type": "code",
   "execution_count": null,
   "metadata": {
    "colab": {
     "base_uri": "https://localhost:8080/",
     "height": 34
    },
    "colab_type": "code",
    "id": "9QQq-37WjA_p",
    "outputId": "6312b292-cf1c-4216-e9d7-064c8fbcb44d"
   },
   "outputs": [],
   "source": [
    "#neuer Code Block\n",
    "print('das ist ein neuer Codeblock. Meine Variable hat folgenden Wert ', meine_variable)"
   ]
  }
 ],
 "metadata": {
  "colab": {
   "collapsed_sections": [],
   "name": "dummy_beispiel.ipynb",
   "provenance": []
  },
  "kernelspec": {
   "display_name": "Python 3",
   "name": "python3"
  }
 },
 "nbformat": 4,
 "nbformat_minor": 0
}
