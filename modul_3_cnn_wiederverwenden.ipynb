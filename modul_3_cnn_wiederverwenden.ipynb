{
 "cells": [
  {
   "cell_type": "markdown",
   "metadata": {
    "colab_type": "text",
    "id": "-wFUjZTmcG5a"
   },
   "source": [
    "# Laden der Bibliotheken und des gespeicherten NN\n",
    "\n",
    "Im ersten Schritt bereiten wir alles vor und laden unser bereits trainiertes Modell"
   ]
  },
  {
   "cell_type": "code",
   "execution_count": null,
   "metadata": {
    "colab": {
     "base_uri": "https://localhost:8080/",
     "height": 405
    },
    "colab_type": "code",
    "executionInfo": {
     "elapsed": 97482,
     "status": "error",
     "timestamp": 1600625422711,
     "user": {
      "displayName": "Julia Nitsch",
      "photoUrl": "https://lh3.googleusercontent.com/a-/AOh14GiEI-GAxszORnjA0WqbcKrAT2dFjghG7ikD4zjctA=s64",
      "userId": "05156771066106099172"
     },
     "user_tz": -120
    },
    "id": "0xLkmPMibmpd",
    "outputId": "37401fce-48c8-42cb-eadc-cc4f7e2c035e"
   },
   "outputs": [],
   "source": [
    "# TensorFlow and tf.keras\n",
    "import tensorflow as tf\n",
    "from tensorflow import keras\n",
    "import numpy as np\n",
    "import matplotlib.pyplot as plt\n",
    "print(tf.__version__)\n",
    "\n",
    "from google.colab import drive\n",
    "drive.mount('/content/drive')\n",
    "model = tf.keras.models.load_model('/content/drive/My Drive/modul_2_cnn/model')\n",
    "\n"
   ]
  },
  {
   "cell_type": "markdown",
   "metadata": {
    "colab_type": "text",
    "id": "jE7Uqzd8fkzm"
   },
   "source": [
    "# Testen\n",
    "Wir haben in Modul 2 die Neun schon richtig klassifiziert. Lasst uns überprüfen ob das so auch noch funktioniert."
   ]
  },
  {
   "cell_type": "code",
   "execution_count": null,
   "metadata": {
    "colab": {
     "base_uri": "https://localhost:8080/",
     "height": 298
    },
    "colab_type": "code",
    "executionInfo": {
     "elapsed": 1289,
     "status": "ok",
     "timestamp": 1600017978980,
     "user": {
      "displayName": "Julia Nitsch",
      "photoUrl": "https://lh3.googleusercontent.com/a-/AOh14GiEI-GAxszORnjA0WqbcKrAT2dFjghG7ikD4zjctA=s64",
      "userId": "05156771066106099172"
     },
     "user_tz": -120
    },
    "id": "EJv19cyoeu9r",
    "outputId": "934296d7-79f4-4540-bf84-a3b6578458c5"
   },
   "outputs": [],
   "source": [
    "# Wir testen erstmals auf unseren alten Daten um zu testen, ob das Laden funktioniert hat\n",
    "mnist = keras.datasets.mnist\n",
    "(_, _), (test_images, test_labels) = mnist.load_data()\n",
    "test_images = np.expand_dims(test_images / 255.0, -1)\n",
    "\n",
    "# Lade eine 0 aus den Trainingsdaten\n",
    "indicies_von_allen_0en = (np.where(test_labels == 0))[0]\n",
    "bild_mit_ziffer_0 = test_images[indicies_von_allen_0en[0]]\n",
    "\n",
    "plt.figure()\n",
    "plt.imshow(bild_mit_ziffer_0[:,:,0], cmap=plt.cm.binary)\n",
    "plt.title(\"Das ist eine 0\")\n",
    "plt.show()\n",
    "from scipy.special import softmax\n",
    "logits_des_nn_fuer_null = model.predict(np.expand_dims(bild_mit_ziffer_0, 0))\n",
    "wahrscheinlichkeiten_des_nn_fuer_null = softmax(logits_des_nn_fuer_null)[0]\n",
    "erkannte_klasse_des_nn_fuer_null = np.argmax(wahrscheinlichkeiten_des_nn_fuer_null)\n",
    "print('Das NN erkennt die Null als ', erkannte_klasse_des_nn_fuer_null, ' mit einer Wahrscheinlikeit von ', wahrscheinlichkeiten_des_nn_fuer_null[erkannte_klasse_des_nn_fuer_null])"
   ]
  },
  {
   "cell_type": "markdown",
   "metadata": {
    "colab_type": "text",
    "id": "95Nf2F41f25S"
   },
   "source": [
    "# Eigene Ziffer\n",
    "Kann das Netz auch unsere eigene Ziffer erkennen? Dafür müssen wir die Ziffer zuerst laden, visualisieren und sehen ob das NN sie erkennt :-)"
   ]
  },
  {
   "cell_type": "code",
   "execution_count": null,
   "metadata": {
    "colab": {
     "base_uri": "https://localhost:8080/",
     "height": 334
    },
    "colab_type": "code",
    "executionInfo": {
     "elapsed": 1265,
     "status": "ok",
     "timestamp": 1600017988164,
     "user": {
      "displayName": "Julia Nitsch",
      "photoUrl": "https://lh3.googleusercontent.com/a-/AOh14GiEI-GAxszORnjA0WqbcKrAT2dFjghG7ikD4zjctA=s64",
      "userId": "05156771066106099172"
     },
     "user_tz": -120
    },
    "id": "gRO4xoDEgDPI",
    "outputId": "426de91c-82fb-4a48-d015-fb7442f7a818"
   },
   "outputs": [],
   "source": [
    "mein_bild = plt.imread('/content/drive/My Drive/zwei.png')\n",
    "print('Das Bild hat folgende Dimensionen ', mein_bild.shape) # png Dateien werden als RGBA abgespeichert --> wir benoetigen aber nur ein Grauwertbild mit 28x28x1\n",
    "\n",
    "# mittleren Werte des Bildes nehmen --> Grauwertbild\n",
    "mein_bild_grauwert = np.mean(mein_bild[:,:,:3], axis=-1) # 28x28\n",
    "mein_bild_grauwert = np.expand_dims(mein_bild_grauwert, axis=-1)\n",
    "print('Das Grauwertbild hat folgende dimensionen ', mein_bild_grauwert.shape)\n",
    "\n",
    "plt.figure()\n",
    "plt.imshow(mein_bild_grauwert[:,:,0], cmap=plt.cm.binary)\n",
    "plt.title(\"Mein Bild\")\n",
    "plt.show()\n",
    "\n",
    "logits_des_nn = model.predict(np.expand_dims(mein_bild_grauwert, axis=0))\n",
    "wahrscheinlichkeiten_des_nn = softmax(logits_des_nn)[0]\n",
    "erkannte_klasse_des_nn = np.argmax(wahrscheinlichkeiten_des_nn)\n",
    "print('Das NN erkennt mein Bild als ', erkannte_klasse_des_nn, ' mit einer Wahrscheinlikeit von ', wahrscheinlichkeiten_des_nn[erkannte_klasse_des_nn])"
   ]
  },
  {
   "cell_type": "markdown",
   "metadata": {
    "colab_type": "text",
    "id": "StpMtRLiQ3xs"
   },
   "source": [
    "# Aufgabe Datenformate\n",
    "\n",
    "\n",
    "*   Wie wichtig ist es, dem Netwerk die gleichen Daten zu zeigen die es bereits während des Trainings sah?\n",
    "*   Was bedeutet RGB und was ist ein eigentlich ein Grauwertbild?\n",
    "\n"
   ]
  }
 ],
 "metadata": {
  "colab": {
   "collapsed_sections": [],
   "name": "modul_3_cnn_wiederverwenden.ipynb",
   "provenance": []
  },
  "kernelspec": {
   "display_name": "Python 3",
   "name": "python3"
  }
 },
 "nbformat": 4,
 "nbformat_minor": 0
}
