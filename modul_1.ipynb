{
 "cells": [
  {
   "cell_type": "markdown",
   "metadata": {
    "colab_type": "text",
    "id": "-wFUjZTmcG5a"
   },
   "source": [
    "# Laden der Daten\n",
    "\n",
    "Im ersten Schritt bereiten wir alles vor und laden unseren Datensatz mit handgeschriebene Ziffern. Unser Ziel ist es, das Bild in usner Programm zu laden und zu klassifizieren. \n",
    "\n",
    "Klassifizieren bedeutet, zu erkennen um welche Ziffer es sich handelt. Ist es eine *0* oder doch eine *9*?\n",
    "\n",
    "Ein kleiner Hinweis # signalisiert ein Kommentar im Code, damit notieren sich Programmiererinnen Hinweise um Codezeilen leichter zu verstehen ;-)"
   ]
  },
  {
   "cell_type": "code",
   "execution_count": null,
   "metadata": {
    "colab": {
     "base_uri": "https://localhost:8080/",
     "height": 70
    },
    "colab_type": "code",
    "executionInfo": {
     "elapsed": 2861,
     "status": "ok",
     "timestamp": 1600017837359,
     "user": {
      "displayName": "Julia Nitsch",
      "photoUrl": "https://lh3.googleusercontent.com/a-/AOh14GiEI-GAxszORnjA0WqbcKrAT2dFjghG7ikD4zjctA=s64",
      "userId": "05156771066106099172"
     },
     "user_tz": -120
    },
    "id": "0xLkmPMibmpd",
    "outputId": "6a7e987e-9fdb-4c8b-b1a9-0162d1e662bf"
   },
   "outputs": [],
   "source": [
    "# TensorFlow and tf.keras\n",
    "import tensorflow as tf\n",
    "from tensorflow import keras\n",
    "import numpy as np\n",
    "import matplotlib.pyplot as plt\n",
    "print(tf.__version__)\n",
    "\n",
    "# Wir laden den Datensatz\n",
    "mnist = keras.datasets.mnist\n",
    "(train_images, train_labels), (test_images, test_labels) = mnist.load_data()\n",
    "\n",
    "# Wir normieren das Bild, sodass es Werte von 0 - 1 beinhaltet. Das ist ein besserer Input für das NN.\n",
    "train_images = train_images / 255.0\n",
    "test_images = test_images / 255.0\n",
    "\n",
    "\n"
   ]
  },
  {
   "cell_type": "markdown",
   "metadata": {
    "colab_type": "text",
    "id": "e0D6xKrIcElq"
   },
   "source": [
    "# Visualisieren - Veranschaulichen - bildlich darstellen\n",
    "Im nächsten Schritt laden wir eine *0* und eine *9* aus unserem Trainingsdatensatz und veranschaulichen die zwei Ziffern."
   ]
  },
  {
   "cell_type": "code",
   "execution_count": null,
   "metadata": {
    "colab": {
     "base_uri": "https://localhost:8080/",
     "height": 544
    },
    "colab_type": "code",
    "executionInfo": {
     "elapsed": 961,
     "status": "ok",
     "timestamp": 1600017839430,
     "user": {
      "displayName": "Julia Nitsch",
      "photoUrl": "https://lh3.googleusercontent.com/a-/AOh14GiEI-GAxszORnjA0WqbcKrAT2dFjghG7ikD4zjctA=s64",
      "userId": "05156771066106099172"
     },
     "user_tz": -120
    },
    "id": "QNUbehzkdgtE",
    "outputId": "f9110fca-82dc-48e7-d780-beb1f2080491"
   },
   "outputs": [],
   "source": [
    "# Lade eine 0 aus den Trainingsdaten\n",
    "indicies_von_allen_0en = (np.where(test_labels == 0))[0]\n",
    "bild_mit_ziffer_0 = test_images[indicies_von_allen_0en[0]]\n",
    "\n",
    "# Lade eine 9 aus den Trainingsdaten\n",
    "indicies_von_allen_9en = (np.where(test_labels == 9))[0]\n",
    "bild_mit_ziffer_9 = test_images[indicies_von_allen_9en[0]]\n",
    "\n",
    "# Visualisieren (= anzeigen) der Bilder, damit wir auch sehen ob wir das ganze richtig geladen haben \n",
    "plt.figure()\n",
    "plt.imshow(bild_mit_ziffer_0, cmap=plt.cm.binary)\n",
    "plt.title(\"Das ist eine 0\")\n",
    "plt.show()\n",
    "\n",
    "plt.figure()\n",
    "plt.imshow(bild_mit_ziffer_9, cmap=plt.cm.binary)\n",
    "plt.title(\"Das ist eine 9\")\n",
    "plt.show()"
   ]
  },
  {
   "cell_type": "markdown",
   "metadata": {
    "colab_type": "text",
    "id": "aFmWf_OtgUeE"
   },
   "source": [
    "# Neuronales Netz definieren\n",
    "Als nächstes müssen wir die Architetkur unseres neuronalen Netzes definieren. Wie viele Layer solltes haben, wie viele Neuronen haben diese Layer.\n",
    "\n",
    "Wir entscheiden uns als erstes für foglende Architektur:\n",
    "\n",
    "\n",
    "*   Input Layer: 28x28 (so groß sind unsere Bilder!)\n",
    "*   Fully Connected Network (FCN) Layer (heißt *dense* in TF!) mit 128 Neuronen und einer ReLU Aktivierung\n",
    "*   Output sind 10 Neuronen (wir haben 10 Ziffern die wir klassifizieren wollen)\n",
    "\n"
   ]
  },
  {
   "cell_type": "code",
   "execution_count": null,
   "metadata": {
    "colab": {},
    "colab_type": "code",
    "executionInfo": {
     "elapsed": 778,
     "status": "ok",
     "timestamp": 1600017845302,
     "user": {
      "displayName": "Julia Nitsch",
      "photoUrl": "https://lh3.googleusercontent.com/a-/AOh14GiEI-GAxszORnjA0WqbcKrAT2dFjghG7ikD4zjctA=s64",
      "userId": "05156771066106099172"
     },
     "user_tz": -120
    },
    "id": "LP0ZTVUqcC5x"
   },
   "outputs": [],
   "source": [
    "# Netzwerk Architektur\n",
    "model = keras.Sequential([\n",
    "    keras.layers.Flatten(input_shape=(28, 28)),\n",
    "    keras.layers.Dense(128, activation='relu'),\n",
    "    keras.layers.Dense(10)\n",
    "])\n",
    "# Lassen TF unser Netzwerk bauen\n",
    "model.compile(optimizer='adam',\n",
    "              loss=tf.keras.losses.SparseCategoricalCrossentropy(from_logits=True),\n",
    "              metrics=['accuracy'])"
   ]
  },
  {
   "cell_type": "markdown",
   "metadata": {
    "colab_type": "text",
    "id": "Q9PhELVyhKD7"
   },
   "source": [
    "# Neuronales Netz trainieren\n",
    "Im nächsten Schritt traineiren wir unser Netz mit den Daten, die wir oben geladen haben. Trainieren wird auch *fitten* genannt, da beim Trainieren die Gewichte der Neuronen angepasst werden, also gefitted werden. Das Wort kommt aus dem Englischen! \n",
    "\n",
    "Wir müssen TF natürlcih auch noch sagen, wie lange das Netzwerk traineirt werden soll. Das drückt man aus, wie oft dem Netzwerk die Trainingsdaten gezeigt werden sollen. \n",
    "\n",
    "* 1 x alle Trainingsdaten zeigen = 1 Epoche\n",
    "* 2 x alle Trainingsdaten zeigen = 2 Epochen"
   ]
  },
  {
   "cell_type": "code",
   "execution_count": null,
   "metadata": {
    "colab": {
     "base_uri": "https://localhost:8080/",
     "height": 390
    },
    "colab_type": "code",
    "executionInfo": {
     "elapsed": 33154,
     "status": "ok",
     "timestamp": 1600017881644,
     "user": {
      "displayName": "Julia Nitsch",
      "photoUrl": "https://lh3.googleusercontent.com/a-/AOh14GiEI-GAxszORnjA0WqbcKrAT2dFjghG7ikD4zjctA=s64",
      "userId": "05156771066106099172"
     },
     "user_tz": -120
    },
    "id": "zfgWUUFnhTED",
    "outputId": "44ed8f30-c275-438a-a84c-2e2ad40e7e16"
   },
   "outputs": [],
   "source": [
    "# Trainiere das Netzwerk für 10 Epochen\n",
    "model.fit(train_images, train_labels, epochs=10)"
   ]
  },
  {
   "cell_type": "markdown",
   "metadata": {
    "colab_type": "text",
    "id": "VJHCQFoniDM0"
   },
   "source": [
    "# Überprüfen wie gut das Netzwerk ist\n",
    "Wir haben das Netzwerk trainiert, jetzt wollen wir auch wissen wie gut es funktioniert. Wir sagen auch, wir *evaluieren* das Netzwerk jetzt. Evaluiert wird mit den Testdaten. Wir fragen, wie viele der Testdaten richtig klassifieziert werden, das heißt wie oft das Netzwerk die Zahl richtig erkennt."
   ]
  },
  {
   "cell_type": "code",
   "execution_count": null,
   "metadata": {
    "colab": {
     "base_uri": "https://localhost:8080/",
     "height": 52
    },
    "colab_type": "code",
    "executionInfo": {
     "elapsed": 779,
     "status": "ok",
     "timestamp": 1600017885440,
     "user": {
      "displayName": "Julia Nitsch",
      "photoUrl": "https://lh3.googleusercontent.com/a-/AOh14GiEI-GAxszORnjA0WqbcKrAT2dFjghG7ikD4zjctA=s64",
      "userId": "05156771066106099172"
     },
     "user_tz": -120
    },
    "id": "fzI4H2ueijYC",
    "outputId": "433cea08-1cea-4d0d-d6c2-762d06a04aca"
   },
   "outputs": [],
   "source": [
    "# Testen des Netzwerkes\n",
    "test_loss, test_acc = model.evaluate(test_images,  test_labels, verbose=0)\n",
    "print('Unser Ergebnis:')\n",
    "print('Von den ', test_images.shape[0], ' wurden ', int(test_acc * test_images.shape[0]), ' richtig erkannt. Das sind {:.2f}% der Daten'.format(test_acc * 100.0))"
   ]
  },
  {
   "cell_type": "markdown",
   "metadata": {
    "colab_type": "text",
    "id": "RnlkyCx3g45B"
   },
   "source": [
    "# Könnt ihr folgendes herausfinden?\n",
    "\n",
    "\n",
    "*   Trainingszeit (=Epochen) des neuronalen Netzwerkes:\n",
    "  * Was passiert wenn man nur ganz kurz trainiert (z.B: 1 Epoche)? Wie viele der Testdaten werden dann noch richtig erkannt?\n",
    "  * Was passiert wenn man gaaaaanz  lange trainiert (z.B: 1000 Epochen) Wie viele der Testdaten werden dann richtig erkannt? Was könnt ihr dabei beobachten?\n",
    "  * **Tipp**: Findet die Stelle im Code wo trainiert wird und ändere die Anzahl der Epochen entsprechend. \n",
    "\n",
    "\n",
    "*   Was passiert wenn man die Input Zahl leicht nach links verschiebt? Wird sie dann noch immer richtig erkannt? Probiert doch einfach das Beispiel aus und beschriebt was ihr da seht. Findet ihr eine Erklärung dafür?\n",
    "\n",
    "* Was passiert wenn man die Input Zahl leicht verrauscht? Wird sie dann noch immer richtig erkannt? Probiert doch einfach das Beispiel aus und beschriebt was ihr da seht. Findet ihr eine Erklärung dafür? Woher könnte Rauschen zum Beispiel kommen, findet ihr Beispiele dafür?\n",
    "\n"
   ]
  },
  {
   "cell_type": "code",
   "execution_count": null,
   "metadata": {
    "colab": {
     "base_uri": "https://localhost:8080/",
     "height": 580
    },
    "colab_type": "code",
    "executionInfo": {
     "elapsed": 1036,
     "status": "ok",
     "timestamp": 1600017891289,
     "user": {
      "displayName": "Julia Nitsch",
      "photoUrl": "https://lh3.googleusercontent.com/a-/AOh14GiEI-GAxszORnjA0WqbcKrAT2dFjghG7ikD4zjctA=s64",
      "userId": "05156771066106099172"
     },
     "user_tz": -120
    },
    "id": "8m2q5qo1iQfa",
    "outputId": "aa12810f-2464-43da-9654-7f662b55c113"
   },
   "outputs": [],
   "source": [
    "# Beispiel nach links verschobene Zahl\n",
    "\n",
    "verschobene_neun = np.zeros_like(bild_mit_ziffer_9) # wir erstellen ein leeres Bild mit der gleichen Größe wie unsere 9\n",
    "verschobene_neun[:, :15] = bild_mit_ziffer_9[:, 8:23]\n",
    "\n",
    "plt.figure()\n",
    "plt.imshow(bild_mit_ziffer_9, cmap=plt.cm.binary)\n",
    "plt.title(\"Das ist eine richtige 9\")\n",
    "plt.show()\n",
    "\n",
    "plt.figure()\n",
    "plt.imshow(verschobene_neun, cmap=plt.cm.binary)\n",
    "plt.title(\"Das ist eine verschobene 9\")\n",
    "plt.show()\n",
    "\n",
    "from scipy.special import softmax\n",
    "logits_des_nn_fuer_neun = model.predict(np.expand_dims(bild_mit_ziffer_9, 0))\n",
    "wahrscheinlichkeiten_des_nn_fuer_neun = softmax(logits_des_nn_fuer_neun)[0]\n",
    "erkannte_klasse_des_nn_fuer_neun = np.argmax(wahrscheinlichkeiten_des_nn_fuer_neun)\n",
    "print('Das NN erkennt die Neun als ', erkannte_klasse_des_nn_fuer_neun, ' mit einer Wahrscheinlikeit von ', wahrscheinlichkeiten_des_nn_fuer_neun[erkannte_klasse_des_nn_fuer_neun])\n",
    "\n",
    "logits_des_nn_fuer_verschobene_neun = model.predict(np.expand_dims(verschobene_neun, 0))\n",
    "wahrscheinlichkeiten_des_nn_fuer_verschobene_neun = softmax(logits_des_nn_fuer_verschobene_neun)[0]\n",
    "erkannte_klasse_des_nn_fuer_verschobene_neun = np.argmax(wahrscheinlichkeiten_des_nn_fuer_verschobene_neun)\n",
    "print('Das NN erkennt die verschobene Neun als ', erkannte_klasse_des_nn_fuer_verschobene_neun, ' mit einer Wahrscheinlikeit von ', wahrscheinlichkeiten_des_nn_fuer_verschobene_neun[erkannte_klasse_des_nn_fuer_verschobene_neun])\n"
   ]
  },
  {
   "cell_type": "code",
   "execution_count": null,
   "metadata": {
    "colab": {
     "base_uri": "https://localhost:8080/",
     "height": 671
    },
    "colab_type": "code",
    "executionInfo": {
     "elapsed": 805,
     "status": "ok",
     "timestamp": 1600017900646,
     "user": {
      "displayName": "Julia Nitsch",
      "photoUrl": "https://lh3.googleusercontent.com/a-/AOh14GiEI-GAxszORnjA0WqbcKrAT2dFjghG7ikD4zjctA=s64",
      "userId": "05156771066106099172"
     },
     "user_tz": -120
    },
    "id": "vM3104LCnknu",
    "outputId": "974ebe64-2a20-4735-db50-0677475487a3"
   },
   "outputs": [],
   "source": [
    "# Beispiel einer verrauschten Zahl\n",
    "\n",
    "verrauschten_neun = np.copy(bild_mit_ziffer_9) # wir kopieren das Bild mit der Ziffer 9\n",
    "rauschen = np.zeros_like(bild_mit_ziffer_9) # wir erstellen ein leeres bild\n",
    "bild_koordinaten = [np.random.randint(0, i - 1, 50) for i in rauschen.shape]\n",
    "rauschen[bild_koordinaten] = 1\n",
    "verrauschten_neun += rauschen\n",
    "bild_koordinaten = [np.random.randint(0, i - 1, 50) for i in rauschen.shape]\n",
    "rauschen[bild_koordinaten] = -1\n",
    "verrauschten_neun += rauschen\n",
    "verrauschten_neun = np.clip(verrauschten_neun,0,1)\n",
    "\n",
    "\n",
    "plt.figure()\n",
    "plt.imshow(bild_mit_ziffer_9, cmap=plt.cm.binary, vmin=0, vmax=1)\n",
    "plt.title(\"Das ist eine richtige 9\")\n",
    "plt.show()\n",
    "\n",
    "plt.figure()\n",
    "plt.imshow(verrauschten_neun, cmap=plt.cm.binary, vmin=0, vmax=1)\n",
    "plt.title(\"Das ist eine verrauschten 9\")\n",
    "plt.show()\n",
    "\n",
    "from scipy.special import softmax\n",
    "logits_des_nn_fuer_neun = model.predict(np.expand_dims(bild_mit_ziffer_9, 0))\n",
    "wahrscheinlichkeiten_des_nn_fuer_neun = softmax(logits_des_nn_fuer_neun)[0]\n",
    "erkannte_klasse_des_nn_fuer_neun = np.argmax(wahrscheinlichkeiten_des_nn_fuer_neun)\n",
    "print('Das NN erkennt die Neun als ', erkannte_klasse_des_nn_fuer_neun, ' mit einer Wahrscheinlikeit von ', wahrscheinlichkeiten_des_nn_fuer_neun[erkannte_klasse_des_nn_fuer_neun])\n",
    "\n",
    "logits_des_nn_fuer_verrauschten_neun = model.predict(np.expand_dims(verrauschten_neun, 0))\n",
    "wahrscheinlichkeiten_des_nn_fuer_verrauschten_neun = softmax(logits_des_nn_fuer_verrauschten_neun)[0]\n",
    "erkannte_klasse_des_nn_fuer_verrauschten_neun = np.argmax(wahrscheinlichkeiten_des_nn_fuer_verrauschten_neun)\n",
    "print('Das NN erkennt die verrauschten Neun als ', erkannte_klasse_des_nn_fuer_verrauschten_neun, ' mit einer Wahrscheinlikeit von ', wahrscheinlichkeiten_des_nn_fuer_verrauschten_neun[erkannte_klasse_des_nn_fuer_verrauschten_neun])"
   ]
  }
 ],
 "metadata": {
  "colab": {
   "collapsed_sections": [],
   "name": "modul_1_mnist-digits.ipynb",
   "provenance": []
  },
  "kernelspec": {
   "display_name": "Python 3",
   "name": "python3"
  }
 },
 "nbformat": 4,
 "nbformat_minor": 0
}
